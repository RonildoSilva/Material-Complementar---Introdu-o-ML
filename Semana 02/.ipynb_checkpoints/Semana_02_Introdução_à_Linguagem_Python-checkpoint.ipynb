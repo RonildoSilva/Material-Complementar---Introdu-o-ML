{
 "cells": [
  {
   "cell_type": "markdown",
   "metadata": {
    "id": "beTUMEsONFbZ"
   },
   "source": [
    "## Monitoria da semana 02\n",
    "### Introdução à linguagem python"
   ]
  },
  {
   "cell_type": "markdown",
   "metadata": {
    "id": "Ff7dti3bUJZP"
   },
   "source": []
  },
  {
   "cell_type": "markdown",
   "metadata": {
    "id": "NNTY3pTlUJkb"
   },
   "source": []
  },
  {
   "cell_type": "markdown",
   "metadata": {
    "id": "uHKMblPzUJmw"
   },
   "source": [
    "### Variáveis\n",
    "\n",
    "</br>\n",
    "<img src=\"http://s2.glbimg.com/sc8rcmPlZtMrzMRCIzFMZgMcTEU=/695x0/s.glbimg.com/po/tt2/f/original/2016/03/11/eevee.jpg\" alt=\"drawing\" width=\"400\"/>"
   ]
  },
  {
   "cell_type": "code",
   "execution_count": null,
   "metadata": {
    "colab": {
     "base_uri": "https://localhost:8080/"
    },
    "id": "r7vZnL5SZ6sc",
    "outputId": "97d576af-cfe3-44ae-c23e-0331b4b75d7c"
   },
   "outputs": [
    {
     "name": "stdout",
     "output_type": "stream",
     "text": [
      "/content\n"
     ]
    }
   ],
   "source": [
    "! pwd"
   ]
  },
  {
   "cell_type": "code",
   "execution_count": null,
   "metadata": {
    "colab": {
     "base_uri": "https://localhost:8080/"
    },
    "id": "8HM38mUtZ_gL",
    "outputId": "592a5a9e-320f-4c84-ea57-9da3b31ab868"
   },
   "outputs": [
    {
     "name": "stdout",
     "output_type": "stream",
     "text": [
      "sample_data\n"
     ]
    }
   ],
   "source": [
    "! ls"
   ]
  },
  {
   "cell_type": "code",
   "execution_count": null,
   "metadata": {
    "id": "wTYnWaeHUqri"
   },
   "outputs": [],
   "source": [
    "numero = -12\n",
    "altura = 6.79987\n",
    "nome = 'texto'\n",
    "apelido = \"outro texto\"\n",
    "\n",
    "golpes = ['chutar', 'chorar' , 'correr']\n",
    "\n",
    "multiplas_caracteristicas = [1,2,3,4, 'azul', 3.4, golpes]\n",
    "\n",
    "derrotado = True\n",
    "pode_evoluir = False\n",
    "\n",
    "slot_pokedex = None"
   ]
  },
  {
   "cell_type": "code",
   "execution_count": null,
   "metadata": {
    "colab": {
     "base_uri": "https://localhost:8080/"
    },
    "id": "ZeF_VZMMU91v",
    "outputId": "2850ef74-6a34-489f-9f26-bbc71d12ad8d"
   },
   "outputs": [
    {
     "data": {
      "text/plain": [
       "[1, 2, 3, 4, 'azul', 3.4, ['chutar', 'chorar', 'correr']]"
      ]
     },
     "execution_count": 4,
     "metadata": {
      "tags": []
     },
     "output_type": "execute_result"
    }
   ],
   "source": [
    "multiplas_caracteristicas"
   ]
  },
  {
   "cell_type": "markdown",
   "metadata": {
    "id": "-KoIbYnvWJYC"
   },
   "source": [
    "### Operadores"
   ]
  },
  {
   "cell_type": "markdown",
   "metadata": {
    "id": "L04eUgSyWOpM"
   },
   "source": [
    "Lógicos\n",
    "\n",
    "\n",
    "![img](https://i.imgur.com/PSU739X.png) </br> ![Colisão](url)"
   ]
  },
  {
   "cell_type": "code",
   "execution_count": null,
   "metadata": {
    "id": "ByBv5iPqWQ0X"
   },
   "outputs": [],
   "source": [
    "colidi = True\n",
    "estou_livre = False"
   ]
  },
  {
   "cell_type": "code",
   "execution_count": null,
   "metadata": {
    "colab": {
     "base_uri": "https://localhost:8080/"
    },
    "id": "2Yu536I8WaA8",
    "outputId": "26438ad4-4999-4722-bf56-4adfe2aea750"
   },
   "outputs": [
    {
     "data": {
      "text/plain": [
       "False"
      ]
     },
     "execution_count": 8,
     "metadata": {
      "tags": []
     },
     "output_type": "execute_result"
    }
   ],
   "source": [
    "colidi and estou_livre"
   ]
  },
  {
   "cell_type": "code",
   "execution_count": null,
   "metadata": {
    "colab": {
     "base_uri": "https://localhost:8080/"
    },
    "id": "kMwVwqr0Wfd8",
    "outputId": "1e68c09c-2806-438c-8414-fe2f53ffa96b"
   },
   "outputs": [
    {
     "data": {
      "text/plain": [
       "True"
      ]
     },
     "execution_count": 9,
     "metadata": {
      "tags": []
     },
     "output_type": "execute_result"
    }
   ],
   "source": [
    "colidi or estou_livre"
   ]
  },
  {
   "cell_type": "code",
   "execution_count": null,
   "metadata": {
    "colab": {
     "base_uri": "https://localhost:8080/"
    },
    "id": "e7oA2JC3a26H",
    "outputId": "22007db7-fa20-463b-fba1-cdace5a71276"
   },
   "outputs": [
    {
     "data": {
      "text/plain": [
       "True"
      ]
     },
     "execution_count": 11,
     "metadata": {
      "tags": []
     },
     "output_type": "execute_result"
    }
   ],
   "source": [
    "not colidi == estou_livre"
   ]
  },
  {
   "cell_type": "code",
   "execution_count": null,
   "metadata": {
    "colab": {
     "base_uri": "https://localhost:8080/"
    },
    "id": "x9OFC9Rua-dT",
    "outputId": "6ad84fdc-78ad-4900-91d5-7b59b26b9878"
   },
   "outputs": [
    {
     "data": {
      "text/plain": [
       "True"
      ]
     },
     "execution_count": 12,
     "metadata": {
      "tags": []
     },
     "output_type": "execute_result"
    }
   ],
   "source": [
    "colidi == (not estou_livre)"
   ]
  },
  {
   "cell_type": "markdown",
   "metadata": {
    "id": "vzYaXfx-bHrT"
   },
   "source": [
    "Matemáticos\n",
    "\n",
    "</br>\n",
    "<img src=\"https://i.ytimg.com/vi/mV8sSQD2oSM/hqdefault.jpg\" alt=\"drawing\" width=\"600\"/>"
   ]
  },
  {
   "cell_type": "code",
   "execution_count": null,
   "metadata": {
    "id": "8mYVbmWUQ50x"
   },
   "outputs": [],
   "source": [
    "nivel_dez = 10\n",
    "nivel_tres = 3"
   ]
  },
  {
   "cell_type": "code",
   "execution_count": null,
   "metadata": {
    "colab": {
     "base_uri": "https://localhost:8080/"
    },
    "id": "sNAT2exjbKvD",
    "outputId": "19c78b72-c46e-4bd1-cd2c-708c6d0ec6af"
   },
   "outputs": [
    {
     "data": {
      "text/plain": [
       "True"
      ]
     },
     "execution_count": 14,
     "metadata": {
      "tags": []
     },
     "output_type": "execute_result"
    }
   ],
   "source": [
    "nivel_dez > nivel_tres"
   ]
  },
  {
   "cell_type": "code",
   "execution_count": null,
   "metadata": {
    "colab": {
     "base_uri": "https://localhost:8080/"
    },
    "id": "oxBwsm6wbK70",
    "outputId": "d4e36260-12e7-4a69-9167-5c190209bc4f"
   },
   "outputs": [
    {
     "data": {
      "text/plain": [
       "True"
      ]
     },
     "execution_count": 15,
     "metadata": {
      "tags": []
     },
     "output_type": "execute_result"
    }
   ],
   "source": [
    "nivel_dez == nivel_dez"
   ]
  },
  {
   "cell_type": "code",
   "execution_count": null,
   "metadata": {
    "colab": {
     "base_uri": "https://localhost:8080/"
    },
    "id": "F0LZucrcbLEr",
    "outputId": "8661260a-8ff7-4e86-96a8-91c9267ed577"
   },
   "outputs": [
    {
     "data": {
      "text/plain": [
       "False"
      ]
     },
     "execution_count": 16,
     "metadata": {
      "tags": []
     },
     "output_type": "execute_result"
    }
   ],
   "source": [
    "nivel_dez < nivel_dez"
   ]
  },
  {
   "cell_type": "code",
   "execution_count": null,
   "metadata": {
    "colab": {
     "base_uri": "https://localhost:8080/"
    },
    "id": "WJbOcJaObLN1",
    "outputId": "e695f2cb-b79b-4fce-a6ef-602317aeb49d"
   },
   "outputs": [
    {
     "data": {
      "text/plain": [
       "True"
      ]
     },
     "execution_count": 17,
     "metadata": {
      "tags": []
     },
     "output_type": "execute_result"
    }
   ],
   "source": [
    "nivel_dez <= nivel_dez"
   ]
  },
  {
   "cell_type": "code",
   "execution_count": null,
   "metadata": {
    "colab": {
     "base_uri": "https://localhost:8080/"
    },
    "id": "Heqn7Ak5bLYA",
    "outputId": "a509af29-a422-4ee6-b12d-f14381ffd695"
   },
   "outputs": [
    {
     "data": {
      "text/plain": [
       "True"
      ]
     },
     "execution_count": 19,
     "metadata": {
      "tags": []
     },
     "output_type": "execute_result"
    }
   ],
   "source": [
    "nivel_dez < 5 * nivel_tres"
   ]
  },
  {
   "cell_type": "code",
   "execution_count": null,
   "metadata": {
    "colab": {
     "base_uri": "https://localhost:8080/"
    },
    "id": "1FCqQG63RLJV",
    "outputId": "8c88f7cb-8eab-4a8b-9c43-f040d0291435"
   },
   "outputs": [
    {
     "data": {
      "text/plain": [
       "True"
      ]
     },
     "execution_count": 20,
     "metadata": {
      "tags": []
     },
     "output_type": "execute_result"
    }
   ],
   "source": [
    "nivel_dez / 3 > nivel_tres"
   ]
  },
  {
   "cell_type": "code",
   "execution_count": null,
   "metadata": {
    "colab": {
     "base_uri": "https://localhost:8080/"
    },
    "id": "HBVtUveEb762",
    "outputId": "0aa04285-925f-4e44-e523-274fa2eedd0e"
   },
   "outputs": [
    {
     "data": {
      "text/plain": [
       "3.3333333333333335"
      ]
     },
     "execution_count": 21,
     "metadata": {
      "tags": []
     },
     "output_type": "execute_result"
    }
   ],
   "source": [
    "nivel_dez / 3 "
   ]
  },
  {
   "cell_type": "markdown",
   "metadata": {
    "id": "eBCw82HAbaw1"
   },
   "source": [
    "### Controles"
   ]
  },
  {
   "cell_type": "markdown",
   "metadata": {
    "id": "vP9qmY9gVVFp"
   },
   "source": [
    "Estrutura condicionais\n",
    "\n",
    "\n",
    "```\n",
    "if(argumento_logico_um):\n",
    "  execucao_baseada_no_argumento_logico_um\n",
    "elif(argumento_logico_dois):\n",
    "  execucao_baseada_no_argumento_logico_dois\n",
    "else:\n",
    "  execucao_nao_baseada_nos_argumentos_anteriores\n",
    "```\n",
    "\n"
   ]
  },
  {
   "cell_type": "code",
   "execution_count": null,
   "metadata": {
    "colab": {
     "base_uri": "https://localhost:8080/"
    },
    "id": "PJHrkOYqa2JO",
    "outputId": "445773c5-0b3c-48c1-ef81-6c6393725b74"
   },
   "outputs": [
    {
     "name": "stdout",
     "output_type": "stream",
     "text": [
      "nao pode seguir\n"
     ]
    }
   ],
   "source": [
    "if(colidi):\n",
    "  print('nao pode seguir')\n",
    "else:\n",
    "  print('se mova a vontade')"
   ]
  },
  {
   "cell_type": "code",
   "execution_count": null,
   "metadata": {
    "colab": {
     "base_uri": "https://localhost:8080/"
    },
    "id": "WkWDzL5Kb1Cb",
    "outputId": "834feabf-62d3-4e7d-eb3d-50a286f5a03c"
   },
   "outputs": [
    {
     "name": "stdout",
     "output_type": "stream",
     "text": [
      "nao pode seguir\n"
     ]
    }
   ],
   "source": [
    "if(not colidi):\n",
    "  print('se mova a vontade')\n",
    "else:\n",
    "  print('nao pode seguir')"
   ]
  },
  {
   "cell_type": "markdown",
   "metadata": {
    "id": "u6qAUjSdTIHN"
   },
   "source": [
    "</br>\n",
    "<img src=\"https://s2.glbimg.com/ce554cCR0oMalbav1F5ww5DcS5E=/0x0:695x390/984x0/smart/filters:strip_icc()/i.s3.glbimg.com/v1/AUTH_08fbf48bc0524877943fe86e43087e7a/internal_photos/bs/2020/1/h/N7Xh0hStWBupJRnwoEAg/pokemon-emerald-cheats-dicas-truques-inicial-techtudo.jpg\" alt=\"drawing\" width=\"400\"/>"
   ]
  },
  {
   "cell_type": "code",
   "execution_count": null,
   "metadata": {
    "colab": {
     "base_uri": "https://localhost:8080/"
    },
    "id": "171mNBYhVWRv",
    "outputId": "655242c4-d6a6-4e47-a4a4-c700cd9a3b02"
   },
   "outputs": [
    {
     "name": "stdout",
     "output_type": "stream",
     "text": [
      "62\n",
      "run\n"
     ]
    }
   ],
   "source": [
    "import random\n",
    "\n",
    "opcao =  random.randint(10, 100)\n",
    "\n",
    "print(opcao)\n",
    "\n",
    "# mod\n",
    "\"\"\"\n",
    "switch : case\n",
    "\"\"\"\n",
    "\n",
    "if(opcao % 3 == 0):\n",
    "  print('fight')\n",
    "elif(opcao % 3 == 1):\n",
    "  print('pokemon')\n",
    "else:\n",
    "  print('run')"
   ]
  },
  {
   "cell_type": "markdown",
   "metadata": {
    "id": "GrPMaXCUdShp"
   },
   "source": [
    "### Fluxos\n",
    "\n",
    "</br>\n",
    "<img src=\"https://i.ytimg.com/vi/t3RMy4vTLME/maxresdefault.jpg\" alt=\"drawing\" width=\"400\"/>"
   ]
  },
  {
   "cell_type": "markdown",
   "metadata": {
    "id": "XczVVrE2UJqJ"
   },
   "source": []
  },
  {
   "cell_type": "code",
   "execution_count": null,
   "metadata": {
    "colab": {
     "base_uri": "https://localhost:8080/"
    },
    "id": "k2nQqqWiUK4J",
    "outputId": "7f939bba-a37f-4a7a-80c0-201f6a90d91f"
   },
   "outputs": [
    {
     "name": "stdout",
     "output_type": "stream",
     "text": [
      "executtor dragonite electabuzz rhyhorn lapras charizard "
     ]
    }
   ],
   "source": [
    "lista = ['executtor', 'dragonite', 'electabuzz', \n",
    "         'rhyhorn', 'lapras', 'charizard']\n",
    "\n",
    "# para cada ITEM na LISTA\n",
    "#   imprima (ITEM)\n",
    "\n",
    "for item in lista:\n",
    "  print(item, end=' ')"
   ]
  },
  {
   "cell_type": "code",
   "execution_count": null,
   "metadata": {
    "colab": {
     "base_uri": "https://localhost:8080/"
    },
    "id": "OADtdP5feXrz",
    "outputId": "a7bd383f-2d67-4612-cde0-9437282d5752"
   },
   "outputs": [
    {
     "data": {
      "text/plain": [
       "6"
      ]
     },
     "execution_count": 33,
     "metadata": {
      "tags": []
     },
     "output_type": "execute_result"
    }
   ],
   "source": [
    "# lenght\n",
    "len(lista)"
   ]
  },
  {
   "cell_type": "code",
   "execution_count": null,
   "metadata": {
    "colab": {
     "base_uri": "https://localhost:8080/"
    },
    "id": "5zzUSinodctx",
    "outputId": "4d2767c1-da12-4d68-fd21-2d876039ff76"
   },
   "outputs": [
    {
     "name": "stdout",
     "output_type": "stream",
     "text": [
      "executtor dragonite electabuzz rhyhorn lapras charizard "
     ]
    }
   ],
   "source": [
    "# range(6) faixa(6) numeros\n",
    "# 0, 1, 2, 3, 4, 5 \n",
    "\n",
    "for indice in range(len(lista)):\n",
    "  #print(indice)\n",
    "  print(lista[indice], end=' ')"
   ]
  },
  {
   "cell_type": "code",
   "execution_count": null,
   "metadata": {
    "colab": {
     "base_uri": "https://localhost:8080/"
    },
    "id": "22-DT5MvdoQp",
    "outputId": "63b3e60e-1a94-48a7-c214-96764aa46e3e"
   },
   "outputs": [
    {
     "name": "stdout",
     "output_type": "stream",
     "text": [
      "1 2 3 4 5 6 7 8 9 "
     ]
    }
   ],
   "source": [
    "for item in range(1, 10):\n",
    "  print(item, end=' ')"
   ]
  },
  {
   "cell_type": "code",
   "execution_count": null,
   "metadata": {
    "colab": {
     "base_uri": "https://localhost:8080/"
    },
    "id": "GwCqoY9XdrE3",
    "outputId": "52489b68-eb8e-43d7-fdbb-911dac598b68"
   },
   "outputs": [
    {
     "name": "stdout",
     "output_type": "stream",
     "text": [
      "1 3 5 7 9 "
     ]
    }
   ],
   "source": [
    "for item in range(1, 10, 2):\n",
    "  print(item, end=' ')"
   ]
  },
  {
   "cell_type": "code",
   "execution_count": null,
   "metadata": {
    "id": "5P9WvGWMdui3"
   },
   "outputs": [],
   "source": []
  },
  {
   "cell_type": "markdown",
   "metadata": {
    "id": "y1ppZOi6XoGs"
   },
   "source": [
    "### Estruturas"
   ]
  },
  {
   "cell_type": "markdown",
   "metadata": {
    "id": "VpUouCm_XriY"
   },
   "source": [
    "</br>\n",
    "<img src=\"https://projectpokemon.org/home/uploads/monthly_2018_01/box.png.f6dd390624c9abb8428e4a11fbeef87a.png\" alt=\"drawing\" width=\"400\"/>"
   ]
  },
  {
   "cell_type": "markdown",
   "metadata": {
    "id": "1wwaFCNlYW2p"
   },
   "source": [
    "Tuplas"
   ]
  },
  {
   "cell_type": "code",
   "execution_count": null,
   "metadata": {
    "id": "4OUnXcnbXq4n"
   },
   "outputs": [],
   "source": [
    "posicao_x = 2\n",
    "posicao_y = 3\n",
    "\n",
    "c = (posicao_x, posicao_y)"
   ]
  },
  {
   "cell_type": "code",
   "execution_count": null,
   "metadata": {
    "colab": {
     "base_uri": "https://localhost:8080/"
    },
    "id": "JD9SyYPAgMPw",
    "outputId": "1a6096a9-e35d-4371-a96b-8d9bf2f41455"
   },
   "outputs": [
    {
     "data": {
      "text/plain": [
       "(2, 3)"
      ]
     },
     "execution_count": 54,
     "metadata": {
      "tags": []
     },
     "output_type": "execute_result"
    }
   ],
   "source": [
    "c"
   ]
  },
  {
   "cell_type": "code",
   "execution_count": null,
   "metadata": {
    "id": "7VjlvThDgANO"
   },
   "outputs": [],
   "source": [
    "l = list() # l = []"
   ]
  },
  {
   "cell_type": "code",
   "execution_count": null,
   "metadata": {
    "id": "6NO9RMXkgDbA"
   },
   "outputs": [],
   "source": [
    "l.append(2)\n",
    "l.append(6)"
   ]
  },
  {
   "cell_type": "code",
   "execution_count": null,
   "metadata": {
    "id": "XSUTxT1UgFEN"
   },
   "outputs": [],
   "source": [
    "l[1] = 7"
   ]
  },
  {
   "cell_type": "code",
   "execution_count": null,
   "metadata": {
    "colab": {
     "base_uri": "https://localhost:8080/"
    },
    "id": "W3OMs6gOgsJC",
    "outputId": "1f688ad9-dac7-4bf7-b0ec-7cd117d54c2a"
   },
   "outputs": [
    {
     "data": {
      "text/plain": [
       "[2, 7]"
      ]
     },
     "execution_count": 58,
     "metadata": {
      "tags": []
     },
     "output_type": "execute_result"
    }
   ],
   "source": [
    "l"
   ]
  },
  {
   "cell_type": "markdown",
   "metadata": {
    "id": "DiEQIjX7YgpP"
   },
   "source": [
    "Dicionarios (chave-valor)"
   ]
  },
  {
   "cell_type": "code",
   "execution_count": null,
   "metadata": {
    "id": "rHOHcZnHYjKB"
   },
   "outputs": [],
   "source": [
    "pokemons = {\n",
    "    \"mew\" : 8,\n",
    "    \"blastoise\" : 2,\n",
    "    \"dragonite\" : 1\n",
    " }"
   ]
  },
  {
   "cell_type": "code",
   "execution_count": null,
   "metadata": {
    "colab": {
     "base_uri": "https://localhost:8080/"
    },
    "id": "dCx2nOugZr93",
    "outputId": "0d0dace5-741d-4bc8-aece-a681dad98c8e"
   },
   "outputs": [
    {
     "data": {
      "text/plain": [
       "8"
      ]
     },
     "execution_count": 60,
     "metadata": {
      "tags": []
     },
     "output_type": "execute_result"
    }
   ],
   "source": [
    "pokemons.get(\"mew\")"
   ]
  },
  {
   "cell_type": "code",
   "execution_count": null,
   "metadata": {
    "id": "RUqwsSe2Z-SW"
   },
   "outputs": [],
   "source": [
    "pokemons.update({\"mew\": 2})\n",
    "pokemons.update({\"blubassaur\": 4})"
   ]
  },
  {
   "cell_type": "code",
   "execution_count": null,
   "metadata": {
    "colab": {
     "base_uri": "https://localhost:8080/"
    },
    "id": "XJ_9A0i2f_r1",
    "outputId": "f6a11f22-5fe4-4a48-83cc-86512d802078"
   },
   "outputs": [
    {
     "data": {
      "text/plain": [
       "{'blastoise': 2, 'blubassaur': 4, 'dragonite': 1, 'mew': 2}"
      ]
     },
     "execution_count": 63,
     "metadata": {
      "tags": []
     },
     "output_type": "execute_result"
    }
   ],
   "source": [
    "pokemons"
   ]
  },
  {
   "cell_type": "markdown",
   "metadata": {
    "id": "vfFWYEMuEvHc"
   },
   "source": [
    "### Funções"
   ]
  },
  {
   "cell_type": "code",
   "execution_count": null,
   "metadata": {
    "id": "tS_nTlBaExDV"
   },
   "outputs": [],
   "source": [
    "def atacar():\n",
    "  print('atacado')"
   ]
  },
  {
   "cell_type": "code",
   "execution_count": null,
   "metadata": {
    "colab": {
     "base_uri": "https://localhost:8080/"
    },
    "id": "MvPfahsrE9Z0",
    "outputId": "a0fa4ff3-1e4d-4a69-c808-74e94a11bf9a"
   },
   "outputs": [
    {
     "name": "stdout",
     "output_type": "stream",
     "text": [
      "atacado\n"
     ]
    }
   ],
   "source": [
    "atacar()"
   ]
  },
  {
   "cell_type": "code",
   "execution_count": null,
   "metadata": {
    "id": "9iPvKw48E5uC"
   },
   "outputs": [],
   "source": [
    "def atacar(golpe_especial = False):\n",
    "  if(golpe_especial):\n",
    "    print('ataquei mesmo')\n",
    "  else:\n",
    "    print('ataquei')"
   ]
  },
  {
   "cell_type": "code",
   "execution_count": null,
   "metadata": {
    "colab": {
     "base_uri": "https://localhost:8080/"
    },
    "id": "KY60QxM8FMpx",
    "outputId": "2c53a60c-a019-43be-cd5f-a3fe8b05b82e"
   },
   "outputs": [
    {
     "name": "stdout",
     "output_type": "stream",
     "text": [
      "ataquei mesmo\n"
     ]
    }
   ],
   "source": [
    "atacar(True)"
   ]
  },
  {
   "cell_type": "code",
   "execution_count": null,
   "metadata": {
    "id": "lWX6pCQEFXbO"
   },
   "outputs": [],
   "source": [
    "def atacar(golpe_especial = False):\n",
    "  if(golpe_especial):\n",
    "    return 100\n",
    "  else:\n",
    "    return 25"
   ]
  },
  {
   "cell_type": "code",
   "execution_count": null,
   "metadata": {
    "colab": {
     "base_uri": "https://localhost:8080/"
    },
    "id": "mqQWdnk1FijT",
    "outputId": "56367185-35e8-4d7e-e511-edd793724053"
   },
   "outputs": [
    {
     "data": {
      "text/plain": [
       "100"
      ]
     },
     "execution_count": 72,
     "metadata": {
      "tags": []
     },
     "output_type": "execute_result"
    }
   ],
   "source": [
    "atacar(True)"
   ]
  },
  {
   "cell_type": "markdown",
   "metadata": {
    "id": "kGA7ZKeGFu8B"
   },
   "source": [
    "### Classes"
   ]
  },
  {
   "cell_type": "code",
   "execution_count": null,
   "metadata": {
    "id": "mZpZ0UIGFxuf"
   },
   "outputs": [],
   "source": [
    "class Pokemon:\n",
    "  def __init__(self, nome, tipo):\n",
    "    self.nome = nome\n",
    "    self.tipo = tipo"
   ]
  },
  {
   "cell_type": "code",
   "execution_count": null,
   "metadata": {
    "id": "eM0FGT74F4xj"
   },
   "outputs": [],
   "source": [
    "goldeen = Pokemon(\"goldeen\", \"agua\")"
   ]
  },
  {
   "cell_type": "code",
   "execution_count": null,
   "metadata": {
    "colab": {
     "base_uri": "https://localhost:8080/"
    },
    "id": "Vr9xGT_WGVnu",
    "outputId": "624607ef-2b11-4f4f-cc06-6da10c1e8077"
   },
   "outputs": [
    {
     "data": {
      "text/plain": [
       "<__main__.Pokemon at 0x7f0957d28160>"
      ]
     },
     "execution_count": 76,
     "metadata": {
      "tags": []
     },
     "output_type": "execute_result"
    }
   ],
   "source": [
    "goldeen"
   ]
  },
  {
   "cell_type": "code",
   "execution_count": null,
   "metadata": {
    "id": "lk7Arh8rGXwS"
   },
   "outputs": [],
   "source": [
    "class Pokemon:\n",
    "  def __init__(self, nome, tipo, energia):\n",
    "    self.nome = nome\n",
    "    self.tipo = tipo\n",
    "    self.energia = energia\n",
    "\n",
    "  def atacar(self):\n",
    "    self.energia = self.energia - 10\n",
    "    return 10\n"
   ]
  },
  {
   "cell_type": "code",
   "execution_count": null,
   "metadata": {
    "id": "dnLyThr3GxHS"
   },
   "outputs": [],
   "source": [
    "goldeen = Pokemon(\"goldeen\", \"agua\", 60)"
   ]
  },
  {
   "cell_type": "code",
   "execution_count": null,
   "metadata": {
    "colab": {
     "base_uri": "https://localhost:8080/"
    },
    "id": "oF3OvMu1eSAs",
    "outputId": "264f0e5e-b65f-457e-abd0-7d767096a94a"
   },
   "outputs": [
    {
     "data": {
      "text/plain": [
       "<__main__.Pokemon at 0x7f09501fba90>"
      ]
     },
     "execution_count": 79,
     "metadata": {
      "tags": []
     },
     "output_type": "execute_result"
    }
   ],
   "source": [
    "goldeen"
   ]
  },
  {
   "cell_type": "code",
   "execution_count": null,
   "metadata": {
    "colab": {
     "base_uri": "https://localhost:8080/"
    },
    "id": "VwKyVqbbG0Br",
    "outputId": "29b26101-d927-45f0-a9c1-976c30a98367"
   },
   "outputs": [
    {
     "data": {
      "text/plain": [
       "10"
      ]
     },
     "execution_count": 82,
     "metadata": {
      "tags": []
     },
     "output_type": "execute_result"
    }
   ],
   "source": [
    "goldeen.atacar()"
   ]
  },
  {
   "cell_type": "code",
   "execution_count": null,
   "metadata": {
    "colab": {
     "base_uri": "https://localhost:8080/"
    },
    "id": "Rl-HOwKoG3Ej",
    "outputId": "79734e7e-3957-4832-f6f6-63168f92f97c"
   },
   "outputs": [
    {
     "data": {
      "text/plain": [
       "40"
      ]
     },
     "execution_count": 83,
     "metadata": {
      "tags": []
     },
     "output_type": "execute_result"
    }
   ],
   "source": [
    "goldeen.energia"
   ]
  },
  {
   "cell_type": "markdown",
   "metadata": {
    "id": "4knh_P02eNnl"
   },
   "source": [
    "### Recomendações"
   ]
  },
  {
   "cell_type": "code",
   "execution_count": null,
   "metadata": {
    "id": "tc_clcDxGzjE"
   },
   "outputs": [],
   "source": []
  },
  {
   "cell_type": "code",
   "execution_count": null,
   "metadata": {
    "id": "1lNcUqmSFhsD"
   },
   "outputs": [],
   "source": []
  },
  {
   "cell_type": "markdown",
   "metadata": {
    "id": "aIzKy_rseXax"
   },
   "source": [
    "![Python DS](https://images-na.ssl-images-amazon.com/images/I/41u13K36PtL._SY344_BO1,204,203,200_QL70_ML2_.jpg) </br> ![Data Science do Zero](url)"
   ]
  },
  {
   "cell_type": "code",
   "execution_count": null,
   "metadata": {
    "id": "y5KTAZGKTEdR"
   },
   "outputs": [],
   "source": []
  }
 ],
 "metadata": {
  "colab": {
   "collapsed_sections": [
    "-KoIbYnvWJYC",
    "eBCw82HAbaw1"
   ],
   "name": "Semana 02 - Introdução à Linguagem Python",
   "provenance": []
  },
  "kernelspec": {
   "display_name": "Python 3",
   "language": "python",
   "name": "python3"
  },
  "language_info": {
   "codemirror_mode": {
    "name": "ipython",
    "version": 3
   },
   "file_extension": ".py",
   "mimetype": "text/x-python",
   "name": "python",
   "nbconvert_exporter": "python",
   "pygments_lexer": "ipython3",
   "version": "3.8.3"
  }
 },
 "nbformat": 4,
 "nbformat_minor": 1
}
