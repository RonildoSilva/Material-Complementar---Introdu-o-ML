{
 "cells": [
  {
   "cell_type": "markdown",
   "metadata": {},
   "source": [
    "# Monitoria da semana 05"
   ]
  },
  {
   "cell_type": "markdown",
   "metadata": {},
   "source": [
    "## Lembretes\n",
    "\n",
    "*   Mínimo de 42 questões;\n",
    "*   Mínimo de 5 presenças nas webconferêcias;\n",
    "*   Duas participações em monitorias, um abono de falta;\n",
    "*   Fazer choradeira.\n",
    "    - Quantidade baixa de alunos aprovados ou próximos da aprovação\n",
    "    - Email para a captura dos `User_Id`"
   ]
  },
  {
   "cell_type": "markdown",
   "metadata": {},
   "source": [
    "### Conteúdo\n",
    "*   Redes neurais artificiais;\n",
    "*   Redes neurais convulocionais."
   ]
  },
  {
   "cell_type": "markdown",
   "metadata": {},
   "source": [
    "# Aplicação de CNN para classificação de imagens"
   ]
  },
  {
   "cell_type": "markdown",
   "metadata": {},
   "source": [
    "#### Estudo de caso\n",
    "</br>\n",
    "\n",
    "<img src=\"https://i0.wp.com/www.alphr.com/wp-content/uploads/2016/07/whos_that_pokemon.png\" alt=\"drawing\" width=\"500\"/>\n"
   ]
  },
  {
   "cell_type": "code",
   "execution_count": 1,
   "metadata": {
    "executionInfo": {
     "elapsed": 4524,
     "status": "ok",
     "timestamp": 1611545396675,
     "user": {
      "displayName": "Ronildo Silva",
      "photoUrl": "https://lh3.googleusercontent.com/a-/AOh14GiXpSmcvL_7FpDP52gE4ZBVyz7BPpD2zA7Mq5fpMw=s64",
      "userId": "12710935293836534770"
     },
     "user_tz": 180
    },
    "id": "9uaTQAlN074T"
   },
   "outputs": [],
   "source": [
    "import warnings\n",
    "warnings.filterwarnings('ignore')\n",
    "\n",
    "import os\n",
    "import cv2\n",
    "import numpy as np\n",
    "import matplotlib.pyplot as plt\n",
    "import seaborn as sns\n",
    "\n",
    "from PIL import *\n",
    "\n",
    "import tensorflow as tf\n",
    "\n",
    "import keras\n",
    "from keras.models import Sequential\n",
    "from keras.layers import Dense, Conv2D , MaxPool2D , Flatten , Dropout \n",
    "from keras.preprocessing.image import ImageDataGenerator\n",
    "from keras.optimizers import Adam\n",
    "\n",
    "from sklearn.metrics import classification_report,confusion_matrix"
   ]
  },
  {
   "cell_type": "markdown",
   "metadata": {},
   "source": []
  },
  {
   "cell_type": "code",
   "execution_count": 2,
   "metadata": {},
   "outputs": [],
   "source": [
    "import os\n",
    "\n",
    "def list_files(startpath):\n",
    "    for root, dirs, files in os.walk(startpath):\n",
    "        level = root.replace(startpath, '').count(os.sep)\n",
    "        indent = ' ' * 4 * (level)\n",
    "        print('{}{}/'.format(indent, os.path.basename(root)))\n",
    "        subindent = ' ' * 4 * (level + 1)\n",
    "        #for f in files:\n",
    "        #    print('{}{}'.format(subindent, f))"
   ]
  },
  {
   "cell_type": "code",
   "execution_count": 3,
   "metadata": {
    "executionInfo": {
     "elapsed": 806,
     "status": "ok",
     "timestamp": 1611545606498,
     "user": {
      "displayName": "Ronildo Silva",
      "photoUrl": "https://lh3.googleusercontent.com/a-/AOh14GiXpSmcvL_7FpDP52gE4ZBVyz7BPpD2zA7Mq5fpMw=s64",
      "userId": "12710935293836534770"
     },
     "user_tz": 180
    },
    "id": "RJ6m9KEU54ws"
   },
   "outputs": [],
   "source": [
    "root_folder = 'data'\n",
    "train_folder = 'data/train/'\n",
    "test_folder = 'data/test/'"
   ]
  },
  {
   "cell_type": "markdown",
   "metadata": {},
   "source": [
    "#### Organização dos dados"
   ]
  },
  {
   "cell_type": "code",
   "execution_count": 5,
   "metadata": {},
   "outputs": [
    {
     "name": "stdout",
     "output_type": "stream",
     "text": [
      "data/\n",
      "    test/\n",
      "        fire/\n",
      "        water/\n",
      "    train/\n",
      "        fire/\n",
      "        water/\n"
     ]
    }
   ],
   "source": [
    "list_files(root_folder)"
   ]
  },
  {
   "cell_type": "markdown",
   "metadata": {},
   "source": [
    "#### Criação automática dos nomes das classes (labels)"
   ]
  },
  {
   "cell_type": "code",
   "execution_count": 6,
   "metadata": {},
   "outputs": [],
   "source": [
    "subfolders = [ label_folder.path for label_folder in os.scandir(train_folder) if label_folder.is_dir() ]"
   ]
  },
  {
   "cell_type": "code",
   "execution_count": 7,
   "metadata": {},
   "outputs": [],
   "source": [
    "labels = [label.split('/')[len(label.split('/'))-1] for label in subfolders]"
   ]
  },
  {
   "cell_type": "code",
   "execution_count": 8,
   "metadata": {},
   "outputs": [
    {
     "data": {
      "text/plain": [
       "['fire', 'water']"
      ]
     },
     "execution_count": 8,
     "metadata": {},
     "output_type": "execute_result"
    }
   ],
   "source": [
    "labels"
   ]
  },
  {
   "cell_type": "markdown",
   "metadata": {},
   "source": [
    "#### Tamanho das imagens de entrada"
   ]
  },
  {
   "cell_type": "code",
   "execution_count": 9,
   "metadata": {},
   "outputs": [],
   "source": [
    "img_size = 32"
   ]
  },
  {
   "cell_type": "markdown",
   "metadata": {},
   "source": [
    "#### Transformação dos dados imagem > array"
   ]
  },
  {
   "cell_type": "code",
   "execution_count": 10,
   "metadata": {
    "executionInfo": {
     "elapsed": 888,
     "status": "ok",
     "timestamp": 1611545610767,
     "user": {
      "displayName": "Ronildo Silva",
      "photoUrl": "https://lh3.googleusercontent.com/a-/AOh14GiXpSmcvL_7FpDP52gE4ZBVyz7BPpD2zA7Mq5fpMw=s64",
      "userId": "12710935293836534770"
     },
     "user_tz": 180
    },
    "id": "Bcfgq-LU0-z0"
   },
   "outputs": [],
   "source": [
    "def get_data(data_dir, labels, img_size):\n",
    "    data = [] \n",
    "    for label in labels: \n",
    "        path = os.path.join(data_dir, label)\n",
    "        class_num = labels.index(label)\n",
    "        for img in os.listdir(path):\n",
    "            try:\n",
    "                img_arr = cv2.imread(os.path.join(path, img))[...,::-1] #convert BGR to RGB format\n",
    "                resized_arr = cv2.resize(img_arr, (img_size, img_size)) # Reshaping images to preferred size\n",
    "                data.append([resized_arr, class_num])\n",
    "            except Exception as e:\n",
    "                print(e)\n",
    "    return np.array(data)"
   ]
  },
  {
   "cell_type": "markdown",
   "metadata": {
    "executionInfo": {
     "elapsed": 733,
     "status": "ok",
     "timestamp": 1611545611170,
     "user": {
      "displayName": "Ronildo Silva",
      "photoUrl": "https://lh3.googleusercontent.com/a-/AOh14GiXpSmcvL_7FpDP52gE4ZBVyz7BPpD2zA7Mq5fpMw=s64",
      "userId": "12710935293836534770"
     },
     "user_tz": 180
    },
    "id": "E-owhsgi53lU"
   },
   "source": [
    "#### Configuração dos conjuntos de treino / teste"
   ]
  },
  {
   "cell_type": "code",
   "execution_count": 11,
   "metadata": {
    "colab": {
     "base_uri": "https://localhost:8080/"
    },
    "executionInfo": {
     "elapsed": 17063,
     "status": "ok",
     "timestamp": 1611545627899,
     "user": {
      "displayName": "Ronildo Silva",
      "photoUrl": "https://lh3.googleusercontent.com/a-/AOh14GiXpSmcvL_7FpDP52gE4ZBVyz7BPpD2zA7Mq5fpMw=s64",
      "userId": "12710935293836534770"
     },
     "user_tz": 180
    },
    "id": "4y5TMwyj1HOr",
    "outputId": "f66fc504-3e8c-496e-a298-d988c4919e18"
   },
   "outputs": [],
   "source": [
    "train = get_data(train_folder, labels, img_size)\n",
    "test = get_data(test_folder, labels, img_size)"
   ]
  },
  {
   "cell_type": "markdown",
   "metadata": {},
   "source": [
    "#### Apresentação singela (peba) dos dados"
   ]
  },
  {
   "cell_type": "code",
   "execution_count": 12,
   "metadata": {
    "colab": {
     "base_uri": "https://localhost:8080/",
     "height": 54
    },
    "executionInfo": {
     "elapsed": 13439,
     "status": "ok",
     "timestamp": 1611545627909,
     "user": {
      "displayName": "Ronildo Silva",
      "photoUrl": "https://lh3.googleusercontent.com/a-/AOh14GiXpSmcvL_7FpDP52gE4ZBVyz7BPpD2zA7Mq5fpMw=s64",
      "userId": "12710935293836534770"
     },
     "user_tz": 180
    },
    "id": "dhG5sijJ7EXm",
    "outputId": "f3685086-4545-4704-b182-8196fd666395"
   },
   "outputs": [
    {
     "data": {
      "image/png": "[encoded data removed]",
      "text/plain": [
       "<Figure size 864x288 with 1 Axes>"
      ]
     },
     "metadata": {
      "needs_background": "light"
     },
     "output_type": "display_data"
    }
   ],
   "source": [
    "l = list()\n",
    "for i in train:\n",
    "    if(i[1] == 0):\n",
    "        l.append('fire')\n",
    "    else:\n",
    "        l.append('water')\n",
    "        \n",
    "plt.figure(figsize=(12,4))        \n",
    "sns.set_style('whitegrid')\n",
    "sns.countplot(l)\n",
    "\n",
    "plt.xlabel(\"Classes de pokémons\", labelpad=14)\n",
    "plt.ylabel(\"Quantidade de exemplos de pokémons\", labelpad=14)\n",
    "\n",
    "plt.title(\"Histograma Classes x Quantidade de pokémons\", y=1.02);"
   ]
  },
  {
   "cell_type": "code",
   "execution_count": 13,
   "metadata": {},
   "outputs": [
    {
     "data": {
      "image/png": "[encoded data removed]",
      "text/plain": [
       "<Figure size 864x288 with 1 Axes>"
      ]
     },
     "metadata": {},
     "output_type": "display_data"
    }
   ],
   "source": [
    "l = list()\n",
    "for i in test:\n",
    "    if(i[1] == 0):\n",
    "        l.append('fire')\n",
    "    else:\n",
    "        l.append('water')\n",
    "\n",
    "plt.figure(figsize=(12,4))        \n",
    "\n",
    "sns.set_style('whitegrid')\n",
    "sns.countplot(l)\n",
    "\n",
    "plt.xlabel(\"Classes de pokémons\", labelpad=14)\n",
    "plt.ylabel(\"Quantidade de exemplos de pokémons\", labelpad=14)\n",
    "\n",
    "plt.title(\"Histograma Classes x Quantidade de pokémons\", y=1.02);"
   ]
  },
  {
   "cell_type": "markdown",
   "metadata": {},
   "source": [
    "#### Exemplo"
   ]
  },
  {
   "cell_type": "code",
   "execution_count": 15,
   "metadata": {
    "colab": {
     "base_uri": "https://localhost:8080/",
     "height": 354
    },
    "executionInfo": {
     "elapsed": 12955,
     "status": "ok",
     "timestamp": 1611545627910,
     "user": {
      "displayName": "Ronildo Silva",
      "photoUrl": "https://lh3.googleusercontent.com/a-/AOh14GiXpSmcvL_7FpDP52gE4ZBVyz7BPpD2zA7Mq5fpMw=s64",
      "userId": "12710935293836534770"
     },
     "user_tz": 180
    },
    "id": "s0ceaEiT8KdG",
    "outputId": "dc59d0d2-0ab6-4afd-bd5c-80877ffc8a25"
   },
   "outputs": [
    {
     "data": {
      "image/png": "[encoded data removed]",
      "text/plain": [
       "<Figure size 864x360 with 2 Axes>"
      ]
     },
     "metadata": {},
     "output_type": "display_data"
    }
   ],
   "source": [
    "import matplotlib.pyplot as plt\n",
    "\n",
    "fig = plt.figure(figsize=(12,5))\n",
    "\n",
    "fig.add_subplot(1,2,1)\n",
    "plt.title(labels[train[0][1]])\n",
    "plt.imshow(train[5][0])\n",
    "\n",
    "fig.add_subplot(1,2,2)\n",
    "plt.title(labels[train[-1][1]])\n",
    "plt.imshow(train[-5][0])\n",
    "\n",
    "plt.show()"
   ]
  },
  {
   "cell_type": "markdown",
   "metadata": {
    "colab": {
     "base_uri": "https://localhost:8080/",
     "height": 354
    },
    "executionInfo": {
     "elapsed": 12866,
     "status": "ok",
     "timestamp": 1611545628257,
     "user": {
      "displayName": "Ronildo Silva",
      "photoUrl": "https://lh3.googleusercontent.com/a-/AOh14GiXpSmcvL_7FpDP52gE4ZBVyz7BPpD2zA7Mq5fpMw=s64",
      "userId": "12710935293836534770"
     },
     "user_tz": 180
    },
    "id": "X-lEI3Hi8Zjk",
    "outputId": "8f32993e-8825-468c-8a21-96c811defe73"
   },
   "source": [
    "#### Partição dos dados de treino e teste"
   ]
  },
  {
   "cell_type": "code",
   "execution_count": 16,
   "metadata": {
    "executionInfo": {
     "elapsed": 11822,
     "status": "ok",
     "timestamp": 1611545628258,
     "user": {
      "displayName": "Ronildo Silva",
      "photoUrl": "https://lh3.googleusercontent.com/a-/AOh14GiXpSmcvL_7FpDP52gE4ZBVyz7BPpD2zA7Mq5fpMw=s64",
      "userId": "12710935293836534770"
     },
     "user_tz": 180
    },
    "id": "k_gS4oR-8dvj"
   },
   "outputs": [],
   "source": [
    "x_train = []\n",
    "y_train = []\n",
    "\n",
    "x_test = []\n",
    "y_test = []\n",
    "\n",
    "for feature, label in train:\n",
    "    x_train.append(feature)\n",
    "    y_train.append(label)\n",
    "\n",
    "for feature, label in test:\n",
    "    x_test.append(feature)\n",
    "    y_test.append(label)\n",
    "\n",
    "# Normalize the data\n",
    "# 0 ... 255\n",
    "# 0 ... 1\n",
    "\n",
    "x_train = np.array(x_train) / 255\n",
    "x_test = np.array(x_test) / 255\n",
    "\n",
    "x_train.reshape(-1, img_size, img_size, 1)\n",
    "y_train = np.array(y_train)\n",
    "\n",
    "x_test.reshape(-1, img_size, img_size, 1)\n",
    "y_test = np.array(y_test)"
   ]
  },
  {
   "cell_type": "code",
   "execution_count": null,
   "metadata": {},
   "outputs": [],
   "source": []
  },
  {
   "cell_type": "markdown",
   "metadata": {
    "colab": {
     "base_uri": "https://localhost:8080/",
     "height": 36
    },
    "executionInfo": {
     "elapsed": 9164,
     "status": "ok",
     "timestamp": 1611545628259,
     "user": {
      "displayName": "Ronildo Silva",
      "photoUrl": "https://lh3.googleusercontent.com/a-/AOh14GiXpSmcvL_7FpDP52gE4ZBVyz7BPpD2zA7Mq5fpMw=s64",
      "userId": "12710935293836534770"
     },
     "user_tz": 180
    },
    "id": "Z7bLRUfvtv7w",
    "outputId": "0c3304c5-a2d7-4eee-de54-6c545aee2a24"
   },
   "source": [
    "### Rede Neural"
   ]
  },
  {
   "cell_type": "markdown",
   "metadata": {},
   "source": [
    "<img src=\"https://miro.medium.com/max/960/1*ekOVM7MUcWBLx-egd60Yug.png\" alt=\"drawing\" width=\"500\"/>\n"
   ]
  },
  {
   "cell_type": "markdown",
   "metadata": {},
   "source": [
    "#### Rede Neural Convolucional"
   ]
  },
  {
   "cell_type": "markdown",
   "metadata": {},
   "source": [
    "<img src=\"https://docs.ecognition.com/v9.5.0/Resources/Images/ECogUsr/UG_CNN_scheme.png\" alt=\"drawing\" width=\"500\"/>\n"
   ]
  },
  {
   "cell_type": "code",
   "execution_count": 18,
   "metadata": {
    "colab": {
     "base_uri": "https://localhost:8080/"
    },
    "executionInfo": {
     "elapsed": 7435,
     "status": "ok",
     "timestamp": 1611545628262,
     "user": {
      "displayName": "Ronildo Silva",
      "photoUrl": "https://lh3.googleusercontent.com/a-/AOh14GiXpSmcvL_7FpDP52gE4ZBVyz7BPpD2zA7Mq5fpMw=s64",
      "userId": "12710935293836534770"
     },
     "user_tz": 180
    },
    "id": "tl8fVH358qb_",
    "outputId": "5fb52b73-8c20-4be4-8fb0-c1fa0a667ba0"
   },
   "outputs": [
    {
     "name": "stdout",
     "output_type": "stream",
     "text": [
      "Model: \"sequential_1\"\n",
      "_________________________________________________________________\n",
      "Layer (type)                 Output Shape              Param #   \n",
      "=================================================================\n",
      "conv2d_3 (Conv2D)            (None, 32, 32, 32)        896       \n",
      "_________________________________________________________________\n",
      "max_pooling2d_3 (MaxPooling2 (None, 16, 16, 32)        0         \n",
      "_________________________________________________________________\n",
      "conv2d_4 (Conv2D)            (None, 16, 16, 32)        9248      \n",
      "_________________________________________________________________\n",
      "max_pooling2d_4 (MaxPooling2 (None, 8, 8, 32)          0         \n",
      "_________________________________________________________________\n",
      "conv2d_5 (Conv2D)            (None, 8, 8, 32)          9248      \n",
      "_________________________________________________________________\n",
      "max_pooling2d_5 (MaxPooling2 (None, 4, 4, 32)          0         \n",
      "_________________________________________________________________\n",
      "dropout_1 (Dropout)          (None, 4, 4, 32)          0         \n",
      "_________________________________________________________________\n",
      "flatten_1 (Flatten)          (None, 512)               0         \n",
      "_________________________________________________________________\n",
      "dense_2 (Dense)              (None, 16)                8208      \n",
      "_________________________________________________________________\n",
      "dense_3 (Dense)              (None, 2)                 34        \n",
      "=================================================================\n",
      "Total params: 27,634\n",
      "Trainable params: 27,634\n",
      "Non-trainable params: 0\n",
      "_________________________________________________________________\n"
     ]
    }
   ],
   "source": [
    "model = Sequential()\n",
    "model.add(Conv2D(32,3, padding='same', activation='relu', \n",
    "                 input_shape=(img_size,img_size,3)))\n",
    "model.add(MaxPool2D())\n",
    "\n",
    "model.add(Conv2D(32, 3, padding='same', activation='relu'))\n",
    "model.add(MaxPool2D())\n",
    "\n",
    "model.add(Conv2D(32, 3, padding='same', activation='relu'))\n",
    "model.add(MaxPool2D())\n",
    "model.add(Dropout(0.5))\n",
    "\n",
    "model.add(Flatten())\n",
    "\n",
    "model.add(Dense(16,activation='relu'))\n",
    "model.add(Dense(len(labels), activation='softmax'))\n",
    "\n",
    "model.summary()"
   ]
  },
  {
   "cell_type": "code",
   "execution_count": 34,
   "metadata": {
    "executionInfo": {
     "elapsed": 7104,
     "status": "ok",
     "timestamp": 1611545628262,
     "user": {
      "displayName": "Ronildo Silva",
      "photoUrl": "https://lh3.googleusercontent.com/a-/AOh14GiXpSmcvL_7FpDP52gE4ZBVyz7BPpD2zA7Mq5fpMw=s64",
      "userId": "12710935293836534770"
     },
     "user_tz": 180
    },
    "id": "1gTttfpO8uQu"
   },
   "outputs": [],
   "source": [
    "opt = Adam(lr=0.0001)\n",
    "model.compile(optimizer = opt , \n",
    "              loss = tf.keras.losses.SparseCategoricalCrossentropy(from_logits=True) , metrics = ['accuracy'])"
   ]
  },
  {
   "cell_type": "code",
   "execution_count": 35,
   "metadata": {},
   "outputs": [],
   "source": [
    "#model.get_weights()[4]"
   ]
  },
  {
   "cell_type": "code",
   "execution_count": 36,
   "metadata": {
    "executionInfo": {
     "elapsed": 6622,
     "status": "ok",
     "timestamp": 1611545628263,
     "user": {
      "displayName": "Ronildo Silva",
      "photoUrl": "https://lh3.googleusercontent.com/a-/AOh14GiXpSmcvL_7FpDP52gE4ZBVyz7BPpD2zA7Mq5fpMw=s64",
      "userId": "12710935293836534770"
     },
     "user_tz": 180
    },
    "id": "rujTTppMWeah"
   },
   "outputs": [],
   "source": [
    "epochs = 300"
   ]
  },
  {
   "cell_type": "code",
   "execution_count": 37,
   "metadata": {
    "colab": {
     "base_uri": "https://localhost:8080/"
    },
    "executionInfo": {
     "elapsed": 105007,
     "status": "ok",
     "timestamp": 1611545727124,
     "user": {
      "displayName": "Ronildo Silva",
      "photoUrl": "https://lh3.googleusercontent.com/a-/AOh14GiXpSmcvL_7FpDP52gE4ZBVyz7BPpD2zA7Mq5fpMw=s64",
      "userId": "12710935293836534770"
     },
     "user_tz": 180
    },
    "id": "H_VkdSaQ8xxg",
    "outputId": "3dbc020a-8be0-46f1-ef42-5f60a7bfece2"
   },
   "outputs": [
    {
     "name": "stdout",
     "output_type": "stream",
     "text": [
      "Epoch 1/300\n",
      "2/2 [==============================] - 2s 665ms/step - loss: 5.7244e-04 - accuracy: 1.0000 - val_loss: 0.0074 - val_accuracy: 1.0000\n",
      "Epoch 2/300\n",
      "2/2 [==============================] - 0s 204ms/step - loss: 6.3454e-05 - accuracy: 1.0000 - val_loss: 0.0162 - val_accuracy: 1.0000\n",
      "Epoch 3/300\n",
      "2/2 [==============================] - 0s 169ms/step - loss: 2.6720e-04 - accuracy: 1.0000 - val_loss: 0.0179 - val_accuracy: 1.0000\n",
      "Epoch 4/300\n",
      "2/2 [==============================] - 0s 180ms/step - loss: 4.9696e-04 - accuracy: 1.0000 - val_loss: 0.0087 - val_accuracy: 1.0000\n",
      "Epoch 5/300\n",
      "2/2 [==============================] - 0s 154ms/step - loss: 1.1060e-04 - accuracy: 1.0000 - val_loss: 0.0047 - val_accuracy: 1.0000\n",
      "Epoch 6/300\n",
      "2/2 [==============================] - 0s 153ms/step - loss: 1.1370e-04 - accuracy: 1.0000 - val_loss: 0.0037 - val_accuracy: 1.0000\n",
      "Epoch 7/300\n",
      "2/2 [==============================] - 0s 161ms/step - loss: 3.8665e-04 - accuracy: 1.0000 - val_loss: 0.0037 - val_accuracy: 1.0000\n",
      "Epoch 8/300\n",
      "2/2 [==============================] - 0s 184ms/step - loss: 9.3828e-04 - accuracy: 1.0000 - val_loss: 0.0049 - val_accuracy: 1.0000\n",
      "Epoch 9/300\n",
      "2/2 [==============================] - 0s 188ms/step - loss: 6.8572e-05 - accuracy: 1.0000 - val_loss: 0.0083 - val_accuracy: 1.0000\n",
      "Epoch 10/300\n",
      "2/2 [==============================] - 0s 163ms/step - loss: 1.6782e-04 - accuracy: 1.0000 - val_loss: 0.0128 - val_accuracy: 1.0000\n",
      "Epoch 11/300\n",
      "2/2 [==============================] - 0s 159ms/step - loss: 1.1213e-04 - accuracy: 1.0000 - val_loss: 0.0167 - val_accuracy: 1.0000\n",
      "Epoch 12/300\n",
      "2/2 [==============================] - 0s 171ms/step - loss: 3.5963e-04 - accuracy: 1.0000 - val_loss: 0.0155 - val_accuracy: 1.0000\n",
      "Epoch 13/300\n",
      "2/2 [==============================] - 0s 189ms/step - loss: 8.0671e-04 - accuracy: 1.0000 - val_loss: 0.0076 - val_accuracy: 1.0000\n",
      "Epoch 14/300\n",
      "2/2 [==============================] - 0s 174ms/step - loss: 1.2305e-04 - accuracy: 1.0000 - val_loss: 0.0043 - val_accuracy: 1.0000\n",
      "Epoch 15/300\n",
      "2/2 [==============================] - 0s 160ms/step - loss: 3.4073e-04 - accuracy: 1.0000 - val_loss: 0.0037 - val_accuracy: 1.0000\n",
      "Epoch 16/300\n",
      "2/2 [==============================] - 0s 181ms/step - loss: 8.3716e-05 - accuracy: 1.0000 - val_loss: 0.0038 - val_accuracy: 1.0000\n",
      "Epoch 17/300\n",
      "2/2 [==============================] - 0s 180ms/step - loss: 1.0101e-04 - accuracy: 1.0000 - val_loss: 0.0039 - val_accuracy: 1.0000\n",
      "Epoch 18/300\n",
      "2/2 [==============================] - 0s 204ms/step - loss: 2.4090e-04 - accuracy: 1.0000 - val_loss: 0.0042 - val_accuracy: 1.0000\n",
      "Epoch 19/300\n",
      "2/2 [==============================] - 0s 194ms/step - loss: 3.9020e-04 - accuracy: 1.0000 - val_loss: 0.0058 - val_accuracy: 1.0000\n",
      "Epoch 20/300\n",
      "2/2 [==============================] - 0s 158ms/step - loss: 9.3125e-05 - accuracy: 1.0000 - val_loss: 0.0098 - val_accuracy: 1.0000\n",
      "Epoch 21/300\n",
      "2/2 [==============================] - 0s 209ms/step - loss: 2.1741e-04 - accuracy: 1.0000 - val_loss: 0.0149 - val_accuracy: 1.0000\n",
      "Epoch 22/300\n",
      "2/2 [==============================] - 0s 194ms/step - loss: 0.0014 - accuracy: 1.0000 - val_loss: 0.0080 - val_accuracy: 1.0000\n",
      "Epoch 23/300\n",
      "2/2 [==============================] - 0s 176ms/step - loss: 2.4930e-04 - accuracy: 1.0000 - val_loss: 0.0044 - val_accuracy: 1.0000\n",
      "Epoch 24/300\n",
      "2/2 [==============================] - 0s 170ms/step - loss: 7.5885e-04 - accuracy: 1.0000 - val_loss: 0.0033 - val_accuracy: 1.0000\n",
      "Epoch 25/300\n",
      "2/2 [==============================] - 0s 178ms/step - loss: 2.5175e-04 - accuracy: 1.0000 - val_loss: 0.0045 - val_accuracy: 1.0000\n",
      "Epoch 26/300\n",
      "2/2 [==============================] - 0s 211ms/step - loss: 5.0179e-04 - accuracy: 1.0000 - val_loss: 0.0048 - val_accuracy: 1.0000\n",
      "Epoch 27/300\n",
      "2/2 [==============================] - 0s 197ms/step - loss: 1.1718e-04 - accuracy: 1.0000 - val_loss: 0.0043 - val_accuracy: 1.0000\n",
      "Epoch 28/300\n",
      "2/2 [==============================] - 0s 230ms/step - loss: 1.2366e-04 - accuracy: 1.0000 - val_loss: 0.0037 - val_accuracy: 1.0000\n",
      "Epoch 29/300\n",
      "2/2 [==============================] - 0s 214ms/step - loss: 1.4943e-04 - accuracy: 1.0000 - val_loss: 0.0032 - val_accuracy: 1.0000\n",
      "Epoch 30/300\n",
      "2/2 [==============================] - 0s 227ms/step - loss: 1.8113e-04 - accuracy: 1.0000 - val_loss: 0.0032 - val_accuracy: 1.0000\n",
      "Epoch 31/300\n",
      "2/2 [==============================] - 0s 267ms/step - loss: 7.5537e-05 - accuracy: 1.0000 - val_loss: 0.0033 - val_accuracy: 1.0000\n",
      "Epoch 32/300\n",
      "2/2 [==============================] - 0s 169ms/step - loss: 1.1900e-04 - accuracy: 1.0000 - val_loss: 0.0036 - val_accuracy: 1.0000\n",
      "Epoch 33/300\n",
      "2/2 [==============================] - 0s 173ms/step - loss: 3.4975e-04 - accuracy: 1.0000 - val_loss: 0.0040 - val_accuracy: 1.0000\n",
      "Epoch 34/300\n",
      "2/2 [==============================] - 0s 200ms/step - loss: 7.0616e-05 - accuracy: 1.0000 - val_loss: 0.0044 - val_accuracy: 1.0000\n",
      "Epoch 35/300\n",
      "2/2 [==============================] - 0s 213ms/step - loss: 1.8104e-04 - accuracy: 1.0000 - val_loss: 0.0045 - val_accuracy: 1.0000\n",
      "Epoch 36/300\n",
      "2/2 [==============================] - 0s 267ms/step - loss: 5.7317e-05 - accuracy: 1.0000 - val_loss: 0.0044 - val_accuracy: 1.0000\n",
      "Epoch 37/300\n",
      "2/2 [==============================] - 0s 174ms/step - loss: 9.4949e-05 - accuracy: 1.0000 - val_loss: 0.0046 - val_accuracy: 1.0000\n",
      "Epoch 38/300\n",
      "2/2 [==============================] - 0s 176ms/step - loss: 1.3812e-04 - accuracy: 1.0000 - val_loss: 0.0043 - val_accuracy: 1.0000\n",
      "Epoch 39/300\n",
      "2/2 [==============================] - 0s 243ms/step - loss: 1.3705e-04 - accuracy: 1.0000 - val_loss: 0.0039 - val_accuracy: 1.0000\n",
      "Epoch 40/300\n",
      "2/2 [==============================] - 0s 173ms/step - loss: 8.5040e-05 - accuracy: 1.0000 - val_loss: 0.0037 - val_accuracy: 1.0000\n",
      "Epoch 41/300\n",
      "2/2 [==============================] - 0s 173ms/step - loss: 6.7569e-05 - accuracy: 1.0000 - val_loss: 0.0036 - val_accuracy: 1.0000\n",
      "Epoch 42/300\n",
      "2/2 [==============================] - 0s 197ms/step - loss: 2.2370e-04 - accuracy: 1.0000 - val_loss: 0.0038 - val_accuracy: 1.0000\n",
      "Epoch 43/300\n",
      "2/2 [==============================] - 0s 147ms/step - loss: 7.9601e-05 - accuracy: 1.0000 - val_loss: 0.0045 - val_accuracy: 1.0000\n",
      "Epoch 44/300\n",
      "2/2 [==============================] - 0s 178ms/step - loss: 3.6384e-04 - accuracy: 1.0000 - val_loss: 0.0044 - val_accuracy: 1.0000\n",
      "Epoch 45/300\n",
      "2/2 [==============================] - 0s 165ms/step - loss: 1.1839e-04 - accuracy: 1.0000 - val_loss: 0.0045 - val_accuracy: 1.0000\n",
      "Epoch 46/300\n",
      "2/2 [==============================] - 0s 191ms/step - loss: 5.7728e-05 - accuracy: 1.0000 - val_loss: 0.0047 - val_accuracy: 1.0000\n",
      "Epoch 47/300\n",
      "2/2 [==============================] - 0s 159ms/step - loss: 3.5342e-05 - accuracy: 1.0000 - val_loss: 0.0049 - val_accuracy: 1.0000\n",
      "Epoch 48/300\n",
      "2/2 [==============================] - 0s 150ms/step - loss: 1.2030e-04 - accuracy: 1.0000 - val_loss: 0.0054 - val_accuracy: 1.0000\n",
      "Epoch 49/300\n",
      "2/2 [==============================] - 0s 141ms/step - loss: 6.9510e-05 - accuracy: 1.0000 - val_loss: 0.0062 - val_accuracy: 1.0000\n",
      "Epoch 50/300\n",
      "2/2 [==============================] - 0s 140ms/step - loss: 4.7627e-04 - accuracy: 1.0000 - val_loss: 0.0053 - val_accuracy: 1.0000\n",
      "Epoch 51/300\n",
      "2/2 [==============================] - 0s 144ms/step - loss: 8.1140e-05 - accuracy: 1.0000 - val_loss: 0.0047 - val_accuracy: 1.0000\n",
      "Epoch 52/300\n",
      "2/2 [==============================] - 0s 154ms/step - loss: 8.7651e-05 - accuracy: 1.0000 - val_loss: 0.0044 - val_accuracy: 1.0000\n",
      "Epoch 53/300\n",
      "2/2 [==============================] - 0s 131ms/step - loss: 1.1116e-04 - accuracy: 1.0000 - val_loss: 0.0043 - val_accuracy: 1.0000\n",
      "Epoch 54/300\n",
      "2/2 [==============================] - 0s 143ms/step - loss: 7.9740e-05 - accuracy: 1.0000 - val_loss: 0.0039 - val_accuracy: 1.0000\n",
      "Epoch 55/300\n",
      "2/2 [==============================] - 0s 142ms/step - loss: 9.3399e-04 - accuracy: 1.0000 - val_loss: 0.0029 - val_accuracy: 1.0000\n",
      "Epoch 56/300\n",
      "2/2 [==============================] - 0s 141ms/step - loss: 1.3645e-04 - accuracy: 1.0000 - val_loss: 0.0034 - val_accuracy: 1.0000\n",
      "Epoch 57/300\n"
     ]
    },
    {
     "name": "stdout",
     "output_type": "stream",
     "text": [
      "2/2 [==============================] - 0s 139ms/step - loss: 7.9109e-05 - accuracy: 1.0000 - val_loss: 0.0039 - val_accuracy: 1.0000\n",
      "Epoch 58/300\n",
      "2/2 [==============================] - 0s 132ms/step - loss: 4.6809e-04 - accuracy: 1.0000 - val_loss: 0.0031 - val_accuracy: 1.0000\n",
      "Epoch 59/300\n",
      "2/2 [==============================] - 0s 148ms/step - loss: 3.5035e-04 - accuracy: 1.0000 - val_loss: 0.0033 - val_accuracy: 1.0000\n",
      "Epoch 60/300\n",
      "2/2 [==============================] - 0s 129ms/step - loss: 8.5314e-05 - accuracy: 1.0000 - val_loss: 0.0051 - val_accuracy: 1.0000\n",
      "Epoch 61/300\n",
      "2/2 [==============================] - 0s 134ms/step - loss: 1.5125e-04 - accuracy: 1.0000 - val_loss: 0.0084 - val_accuracy: 1.0000\n",
      "Epoch 62/300\n",
      "2/2 [==============================] - 0s 126ms/step - loss: 1.2861e-04 - accuracy: 1.0000 - val_loss: 0.0119 - val_accuracy: 1.0000\n",
      "Epoch 63/300\n",
      "2/2 [==============================] - 0s 173ms/step - loss: 7.5115e-05 - accuracy: 1.0000 - val_loss: 0.0142 - val_accuracy: 1.0000\n",
      "Epoch 64/300\n",
      "2/2 [==============================] - 0s 125ms/step - loss: 2.8777e-04 - accuracy: 1.0000 - val_loss: 0.0127 - val_accuracy: 1.0000\n",
      "Epoch 65/300\n",
      "2/2 [==============================] - 0s 139ms/step - loss: 3.9950e-05 - accuracy: 1.0000 - val_loss: 0.0102 - val_accuracy: 1.0000\n",
      "Epoch 66/300\n",
      "2/2 [==============================] - 0s 149ms/step - loss: 1.3066e-04 - accuracy: 1.0000 - val_loss: 0.0074 - val_accuracy: 1.0000\n",
      "Epoch 67/300\n",
      "2/2 [==============================] - 0s 152ms/step - loss: 1.6560e-04 - accuracy: 1.0000 - val_loss: 0.0052 - val_accuracy: 1.0000\n",
      "Epoch 68/300\n",
      "2/2 [==============================] - 0s 149ms/step - loss: 9.0019e-05 - accuracy: 1.0000 - val_loss: 0.0040 - val_accuracy: 1.0000\n",
      "Epoch 69/300\n",
      "2/2 [==============================] - 0s 130ms/step - loss: 4.9453e-05 - accuracy: 1.0000 - val_loss: 0.0034 - val_accuracy: 1.0000\n",
      "Epoch 70/300\n",
      "2/2 [==============================] - 0s 144ms/step - loss: 2.7389e-04 - accuracy: 1.0000 - val_loss: 0.0034 - val_accuracy: 1.0000\n",
      "Epoch 71/300\n",
      "2/2 [==============================] - 0s 154ms/step - loss: 9.3173e-05 - accuracy: 1.0000 - val_loss: 0.0040 - val_accuracy: 1.0000\n",
      "Epoch 72/300\n",
      "2/2 [==============================] - 0s 160ms/step - loss: 1.2395e-04 - accuracy: 1.0000 - val_loss: 0.0046 - val_accuracy: 1.0000\n",
      "Epoch 73/300\n",
      "2/2 [==============================] - 0s 154ms/step - loss: 1.0646e-04 - accuracy: 1.0000 - val_loss: 0.0054 - val_accuracy: 1.0000\n",
      "Epoch 74/300\n",
      "2/2 [==============================] - 0s 175ms/step - loss: 2.8334e-05 - accuracy: 1.0000 - val_loss: 0.0062 - val_accuracy: 1.0000\n",
      "Epoch 75/300\n",
      "2/2 [==============================] - 0s 151ms/step - loss: 1.2449e-04 - accuracy: 1.0000 - val_loss: 0.0065 - val_accuracy: 1.0000\n",
      "Epoch 76/300\n",
      "2/2 [==============================] - 0s 133ms/step - loss: 1.1709e-04 - accuracy: 1.0000 - val_loss: 0.0075 - val_accuracy: 1.0000\n",
      "Epoch 77/300\n",
      "2/2 [==============================] - 0s 124ms/step - loss: 4.3158e-05 - accuracy: 1.0000 - val_loss: 0.0085 - val_accuracy: 1.0000\n",
      "Epoch 78/300\n",
      "2/2 [==============================] - 0s 142ms/step - loss: 1.1309e-04 - accuracy: 1.0000 - val_loss: 0.0088 - val_accuracy: 1.0000\n",
      "Epoch 79/300\n",
      "2/2 [==============================] - 0s 139ms/step - loss: 3.1876e-05 - accuracy: 1.0000 - val_loss: 0.0088 - val_accuracy: 1.0000\n",
      "Epoch 80/300\n",
      "2/2 [==============================] - 0s 175ms/step - loss: 7.0080e-05 - accuracy: 1.0000 - val_loss: 0.0087 - val_accuracy: 1.0000\n",
      "Epoch 81/300\n",
      "2/2 [==============================] - 0s 144ms/step - loss: 1.8502e-05 - accuracy: 1.0000 - val_loss: 0.0087 - val_accuracy: 1.0000\n",
      "Epoch 82/300\n",
      "2/2 [==============================] - 0s 149ms/step - loss: 2.5242e-04 - accuracy: 1.0000 - val_loss: 0.0065 - val_accuracy: 1.0000\n",
      "Epoch 83/300\n",
      "2/2 [==============================] - 0s 211ms/step - loss: 6.9952e-05 - accuracy: 1.0000 - val_loss: 0.0049 - val_accuracy: 1.0000\n",
      "Epoch 84/300\n",
      "2/2 [==============================] - 0s 161ms/step - loss: 8.6004e-05 - accuracy: 1.0000 - val_loss: 0.0038 - val_accuracy: 1.0000\n",
      "Epoch 85/300\n",
      "2/2 [==============================] - 0s 161ms/step - loss: 2.3241e-04 - accuracy: 1.0000 - val_loss: 0.0034 - val_accuracy: 1.0000\n",
      "Epoch 86/300\n",
      "2/2 [==============================] - 0s 166ms/step - loss: 3.0533e-05 - accuracy: 1.0000 - val_loss: 0.0032 - val_accuracy: 1.0000\n",
      "Epoch 87/300\n",
      "2/2 [==============================] - 0s 138ms/step - loss: 2.6294e-04 - accuracy: 1.0000 - val_loss: 0.0035 - val_accuracy: 1.0000\n",
      "Epoch 88/300\n",
      "2/2 [==============================] - 0s 138ms/step - loss: 5.8666e-05 - accuracy: 1.0000 - val_loss: 0.0038 - val_accuracy: 1.0000\n",
      "Epoch 89/300\n",
      "2/2 [==============================] - ETA: 0s - loss: 8.8592e-05 - accuracy: 1.00 - 0s 126ms/step - loss: 9.1655e-05 - accuracy: 1.0000 - val_loss: 0.0044 - val_accuracy: 1.0000\n",
      "Epoch 90/300\n",
      "2/2 [==============================] - 0s 126ms/step - loss: 2.6216e-05 - accuracy: 1.0000 - val_loss: 0.0051 - val_accuracy: 1.0000\n",
      "Epoch 91/300\n",
      "2/2 [==============================] - 0s 121ms/step - loss: 1.0183e-04 - accuracy: 1.0000 - val_loss: 0.0057 - val_accuracy: 1.0000\n",
      "Epoch 92/300\n",
      "2/2 [==============================] - 0s 155ms/step - loss: 1.3993e-04 - accuracy: 1.0000 - val_loss: 0.0070 - val_accuracy: 1.0000\n",
      "Epoch 93/300\n",
      "2/2 [==============================] - 0s 155ms/step - loss: 1.8587e-04 - accuracy: 1.0000 - val_loss: 0.0086 - val_accuracy: 1.0000\n",
      "Epoch 94/300\n",
      "2/2 [==============================] - 0s 148ms/step - loss: 1.7185e-04 - accuracy: 1.0000 - val_loss: 0.0093 - val_accuracy: 1.0000\n",
      "Epoch 95/300\n",
      "2/2 [==============================] - 0s 130ms/step - loss: 6.5220e-05 - accuracy: 1.0000 - val_loss: 0.0086 - val_accuracy: 1.0000\n",
      "Epoch 96/300\n",
      "2/2 [==============================] - 0s 135ms/step - loss: 8.5053e-04 - accuracy: 1.0000 - val_loss: 0.0035 - val_accuracy: 1.0000\n",
      "Epoch 97/300\n",
      "2/2 [==============================] - 0s 131ms/step - loss: 7.3484e-05 - accuracy: 1.0000 - val_loss: 0.0033 - val_accuracy: 1.0000\n",
      "Epoch 98/300\n",
      "2/2 [==============================] - 0s 129ms/step - loss: 1.3529e-04 - accuracy: 1.0000 - val_loss: 0.0046 - val_accuracy: 1.0000\n",
      "Epoch 99/300\n",
      "2/2 [==============================] - 0s 150ms/step - loss: 1.4263e-04 - accuracy: 1.0000 - val_loss: 0.0059 - val_accuracy: 1.0000\n",
      "Epoch 100/300\n",
      "2/2 [==============================] - 0s 159ms/step - loss: 3.9104e-04 - accuracy: 1.0000 - val_loss: 0.0043 - val_accuracy: 1.0000\n",
      "Epoch 101/300\n",
      "2/2 [==============================] - 0s 147ms/step - loss: 2.0223e-04 - accuracy: 1.0000 - val_loss: 0.0031 - val_accuracy: 1.0000\n",
      "Epoch 102/300\n",
      "2/2 [==============================] - 0s 166ms/step - loss: 4.4410e-05 - accuracy: 1.0000 - val_loss: 0.0037 - val_accuracy: 1.0000\n",
      "Epoch 103/300\n",
      "2/2 [==============================] - 0s 151ms/step - loss: 3.1499e-05 - accuracy: 1.0000 - val_loss: 0.0058 - val_accuracy: 1.0000\n",
      "Epoch 104/300\n",
      "2/2 [==============================] - 0s 144ms/step - loss: 1.7058e-04 - accuracy: 1.0000 - val_loss: 0.0071 - val_accuracy: 1.0000\n",
      "Epoch 105/300\n",
      "2/2 [==============================] - 0s 148ms/step - loss: 1.0268e-04 - accuracy: 1.0000 - val_loss: 0.0066 - val_accuracy: 1.0000\n",
      "Epoch 106/300\n",
      "2/2 [==============================] - 0s 142ms/step - loss: 4.4955e-05 - accuracy: 1.0000 - val_loss: 0.0060 - val_accuracy: 1.0000\n",
      "Epoch 107/300\n",
      "2/2 [==============================] - 0s 135ms/step - loss: 7.8512e-05 - accuracy: 1.0000 - val_loss: 0.0060 - val_accuracy: 1.0000\n",
      "Epoch 108/300\n",
      "2/2 [==============================] - 0s 137ms/step - loss: 2.4658e-05 - accuracy: 1.0000 - val_loss: 0.0062 - val_accuracy: 1.0000\n",
      "Epoch 109/300\n",
      "2/2 [==============================] - 0s 135ms/step - loss: 3.4656e-05 - accuracy: 1.0000 - val_loss: 0.0063 - val_accuracy: 1.0000\n",
      "Epoch 110/300\n",
      "2/2 [==============================] - 0s 116ms/step - loss: 5.0357e-04 - accuracy: 1.0000 - val_loss: 0.0041 - val_accuracy: 1.0000\n",
      "Epoch 111/300\n",
      "2/2 [==============================] - 0s 133ms/step - loss: 5.1835e-05 - accuracy: 1.0000 - val_loss: 0.0030 - val_accuracy: 1.0000\n",
      "Epoch 112/300\n",
      "2/2 [==============================] - 0s 124ms/step - loss: 9.4846e-05 - accuracy: 1.0000 - val_loss: 0.0043 - val_accuracy: 1.0000\n"
     ]
    },
    {
     "name": "stdout",
     "output_type": "stream",
     "text": [
      "Epoch 113/300\n",
      "2/2 [==============================] - 0s 123ms/step - loss: 1.1774e-04 - accuracy: 1.0000 - val_loss: 0.0062 - val_accuracy: 1.0000\n",
      "Epoch 114/300\n",
      "2/2 [==============================] - 0s 127ms/step - loss: 1.4534e-04 - accuracy: 1.0000 - val_loss: 0.0069 - val_accuracy: 1.0000\n",
      "Epoch 115/300\n",
      "2/2 [==============================] - 0s 129ms/step - loss: 5.0265e-04 - accuracy: 1.0000 - val_loss: 0.0039 - val_accuracy: 1.0000\n",
      "Epoch 116/300\n",
      "2/2 [==============================] - 0s 151ms/step - loss: 0.0022 - accuracy: 1.0000 - val_loss: 0.0148 - val_accuracy: 1.0000\n",
      "Epoch 117/300\n",
      "2/2 [==============================] - 0s 148ms/step - loss: 1.7067e-04 - accuracy: 1.0000 - val_loss: 0.0750 - val_accuracy: 0.9667\n",
      "Epoch 118/300\n",
      "2/2 [==============================] - 0s 148ms/step - loss: 0.0035 - accuracy: 1.0000 - val_loss: 0.0589 - val_accuracy: 0.9667\n",
      "Epoch 119/300\n",
      "2/2 [==============================] - 0s 158ms/step - loss: 5.2175e-04 - accuracy: 1.0000 - val_loss: 0.0079 - val_accuracy: 1.0000\n",
      "Epoch 120/300\n",
      "2/2 [==============================] - 0s 140ms/step - loss: 6.4644e-05 - accuracy: 1.0000 - val_loss: 0.0043 - val_accuracy: 1.0000\n",
      "Epoch 121/300\n",
      "2/2 [==============================] - 0s 149ms/step - loss: 4.5759e-04 - accuracy: 1.0000 - val_loss: 0.0214 - val_accuracy: 1.0000\n",
      "Epoch 122/300\n",
      "2/2 [==============================] - 0s 155ms/step - loss: 0.0010 - accuracy: 1.0000 - val_loss: 0.0358 - val_accuracy: 0.9667\n",
      "Epoch 123/300\n",
      "2/2 [==============================] - 0s 147ms/step - loss: 7.9412e-04 - accuracy: 1.0000 - val_loss: 0.0330 - val_accuracy: 0.9667\n",
      "Epoch 124/300\n",
      "2/2 [==============================] - 0s 155ms/step - loss: 8.9911e-04 - accuracy: 1.0000 - val_loss: 0.0197 - val_accuracy: 1.0000\n",
      "Epoch 125/300\n",
      "2/2 [==============================] - 0s 157ms/step - loss: 4.4584e-04 - accuracy: 1.0000 - val_loss: 0.0097 - val_accuracy: 1.0000\n",
      "Epoch 126/300\n",
      "2/2 [==============================] - 0s 153ms/step - loss: 9.4900e-05 - accuracy: 1.0000 - val_loss: 0.0052 - val_accuracy: 1.0000\n",
      "Epoch 127/300\n",
      "2/2 [==============================] - 0s 151ms/step - loss: 1.8141e-04 - accuracy: 1.0000 - val_loss: 0.0037 - val_accuracy: 1.0000\n",
      "Epoch 128/300\n",
      "2/2 [==============================] - 0s 146ms/step - loss: 4.0613e-04 - accuracy: 1.0000 - val_loss: 0.0036 - val_accuracy: 1.0000\n",
      "Epoch 129/300\n",
      "2/2 [==============================] - 0s 151ms/step - loss: 2.9613e-05 - accuracy: 1.0000 - val_loss: 0.0051 - val_accuracy: 1.0000\n",
      "Epoch 130/300\n",
      "2/2 [==============================] - 0s 146ms/step - loss: 1.2786e-05 - accuracy: 1.0000 - val_loss: 0.0076 - val_accuracy: 1.0000\n",
      "Epoch 131/300\n",
      "2/2 [==============================] - 0s 166ms/step - loss: 7.6905e-05 - accuracy: 1.0000 - val_loss: 0.0109 - val_accuracy: 1.0000\n",
      "Epoch 132/300\n",
      "2/2 [==============================] - 0s 148ms/step - loss: 0.0034 - accuracy: 1.0000 - val_loss: 0.0048 - val_accuracy: 1.0000\n",
      "Epoch 133/300\n",
      "2/2 [==============================] - 0s 146ms/step - loss: 1.0375e-04 - accuracy: 1.0000 - val_loss: 0.0035 - val_accuracy: 1.0000\n",
      "Epoch 134/300\n",
      "2/2 [==============================] - 0s 137ms/step - loss: 1.3718e-04 - accuracy: 1.0000 - val_loss: 0.0044 - val_accuracy: 1.0000\n",
      "Epoch 135/300\n",
      "2/2 [==============================] - 0s 137ms/step - loss: 1.0958e-04 - accuracy: 1.0000 - val_loss: 0.0061 - val_accuracy: 1.0000\n",
      "Epoch 136/300\n",
      "2/2 [==============================] - 0s 145ms/step - loss: 1.9112e-04 - accuracy: 1.0000 - val_loss: 0.0075 - val_accuracy: 1.0000\n",
      "Epoch 137/300\n",
      "2/2 [==============================] - 0s 131ms/step - loss: 1.0092e-04 - accuracy: 1.0000 - val_loss: 0.0080 - val_accuracy: 1.0000\n",
      "Epoch 138/300\n",
      "2/2 [==============================] - 0s 137ms/step - loss: 2.8237e-04 - accuracy: 1.0000 - val_loss: 0.0073 - val_accuracy: 1.0000\n",
      "Epoch 139/300\n",
      "2/2 [==============================] - 0s 120ms/step - loss: 1.7065e-04 - accuracy: 1.0000 - val_loss: 0.0062 - val_accuracy: 1.0000\n",
      "Epoch 140/300\n",
      "2/2 [==============================] - 0s 133ms/step - loss: 1.3640e-04 - accuracy: 1.0000 - val_loss: 0.0051 - val_accuracy: 1.0000\n",
      "Epoch 141/300\n",
      "2/2 [==============================] - 0s 120ms/step - loss: 5.2524e-05 - accuracy: 1.0000 - val_loss: 0.0043 - val_accuracy: 1.0000\n",
      "Epoch 142/300\n",
      "2/2 [==============================] - 0s 151ms/step - loss: 1.3217e-04 - accuracy: 1.0000 - val_loss: 0.0038 - val_accuracy: 1.0000\n",
      "Epoch 143/300\n",
      "2/2 [==============================] - 0s 157ms/step - loss: 3.0108e-04 - accuracy: 1.0000 - val_loss: 0.0035 - val_accuracy: 1.0000\n",
      "Epoch 144/300\n",
      "2/2 [==============================] - 0s 144ms/step - loss: 8.9477e-05 - accuracy: 1.0000 - val_loss: 0.0042 - val_accuracy: 1.0000\n",
      "Epoch 145/300\n",
      "2/2 [==============================] - 0s 147ms/step - loss: 1.3940e-05 - accuracy: 1.0000 - val_loss: 0.0056 - val_accuracy: 1.0000\n",
      "Epoch 146/300\n",
      "2/2 [==============================] - 0s 162ms/step - loss: 0.0057 - accuracy: 1.0000 - val_loss: 0.0044 - val_accuracy: 1.0000\n",
      "Epoch 147/300\n",
      "2/2 [==============================] - 0s 161ms/step - loss: 7.8627e-05 - accuracy: 1.0000 - val_loss: 0.0155 - val_accuracy: 1.0000\n",
      "Epoch 148/300\n",
      "2/2 [==============================] - 0s 147ms/step - loss: 2.7561e-04 - accuracy: 1.0000 - val_loss: 0.0361 - val_accuracy: 0.9667\n",
      "Epoch 149/300\n",
      "2/2 [==============================] - 0s 138ms/step - loss: 0.0106 - accuracy: 0.9889 - val_loss: 0.0084 - val_accuracy: 1.0000\n",
      "Epoch 150/300\n",
      "2/2 [==============================] - 0s 155ms/step - loss: 0.0010 - accuracy: 1.0000 - val_loss: 0.0087 - val_accuracy: 1.0000\n",
      "Epoch 151/300\n",
      "2/2 [==============================] - 0s 146ms/step - loss: 2.2033e-04 - accuracy: 1.0000 - val_loss: 0.0529 - val_accuracy: 0.9667\n",
      "Epoch 152/300\n",
      "2/2 [==============================] - 0s 136ms/step - loss: 5.3331e-04 - accuracy: 1.0000 - val_loss: 0.1101 - val_accuracy: 0.9667\n",
      "Epoch 153/300\n",
      "2/2 [==============================] - 0s 142ms/step - loss: 0.0021 - accuracy: 1.0000 - val_loss: 0.1386 - val_accuracy: 0.9667\n",
      "Epoch 154/300\n",
      "2/2 [==============================] - 0s 131ms/step - loss: 0.0058 - accuracy: 1.0000 - val_loss: 0.1041 - val_accuracy: 0.9667\n",
      "Epoch 155/300\n",
      "2/2 [==============================] - 0s 124ms/step - loss: 0.0020 - accuracy: 1.0000 - val_loss: 0.0431 - val_accuracy: 0.9667\n",
      "Epoch 156/300\n",
      "2/2 [==============================] - 0s 128ms/step - loss: 6.6870e-05 - accuracy: 1.0000 - val_loss: 0.0126 - val_accuracy: 1.0000\n",
      "Epoch 157/300\n",
      "2/2 [==============================] - 0s 138ms/step - loss: 1.4979e-04 - accuracy: 1.0000 - val_loss: 0.0041 - val_accuracy: 1.0000\n",
      "Epoch 158/300\n",
      "2/2 [==============================] - 0s 121ms/step - loss: 9.2497e-05 - accuracy: 1.0000 - val_loss: 0.0033 - val_accuracy: 1.0000\n",
      "Epoch 159/300\n",
      "2/2 [==============================] - 0s 126ms/step - loss: 2.5560e-04 - accuracy: 1.0000 - val_loss: 0.0063 - val_accuracy: 1.0000\n",
      "Epoch 160/300\n",
      "2/2 [==============================] - 0s 135ms/step - loss: 1.5437e-04 - accuracy: 1.0000 - val_loss: 0.0129 - val_accuracy: 1.0000\n",
      "Epoch 161/300\n",
      "2/2 [==============================] - 0s 136ms/step - loss: 9.7105e-04 - accuracy: 1.0000 - val_loss: 0.0174 - val_accuracy: 1.0000\n",
      "Epoch 162/300\n",
      "2/2 [==============================] - 0s 186ms/step - loss: 7.6238e-04 - accuracy: 1.0000 - val_loss: 0.0177 - val_accuracy: 1.0000\n",
      "Epoch 163/300\n",
      "2/2 [==============================] - 0s 171ms/step - loss: 5.8507e-04 - accuracy: 1.0000 - val_loss: 0.0131 - val_accuracy: 1.0000\n",
      "Epoch 164/300\n",
      "2/2 [==============================] - 0s 154ms/step - loss: 7.7370e-04 - accuracy: 1.0000 - val_loss: 0.0074 - val_accuracy: 1.0000\n",
      "Epoch 165/300\n",
      "2/2 [==============================] - 0s 148ms/step - loss: 3.9632e-04 - accuracy: 1.0000 - val_loss: 0.0044 - val_accuracy: 1.0000\n",
      "Epoch 166/300\n",
      "2/2 [==============================] - 0s 122ms/step - loss: 8.5354e-05 - accuracy: 1.0000 - val_loss: 0.0032 - val_accuracy: 1.0000\n",
      "Epoch 167/300\n",
      "2/2 [==============================] - 0s 183ms/step - loss: 1.2828e-04 - accuracy: 1.0000 - val_loss: 0.0029 - val_accuracy: 1.0000\n",
      "Epoch 168/300\n",
      "2/2 [==============================] - 0s 147ms/step - loss: 4.2661e-05 - accuracy: 1.0000 - val_loss: 0.0031 - val_accuracy: 1.0000\n",
      "Epoch 169/300\n"
     ]
    },
    {
     "name": "stdout",
     "output_type": "stream",
     "text": [
      "2/2 [==============================] - 0s 143ms/step - loss: 8.7319e-05 - accuracy: 1.0000 - val_loss: 0.0035 - val_accuracy: 1.0000\n",
      "Epoch 170/300\n",
      "2/2 [==============================] - 0s 200ms/step - loss: 2.5799e-05 - accuracy: 1.0000 - val_loss: 0.0041 - val_accuracy: 1.0000\n",
      "Epoch 171/300\n",
      "2/2 [==============================] - 0s 166ms/step - loss: 1.3440e-04 - accuracy: 1.0000 - val_loss: 0.0048 - val_accuracy: 1.0000\n",
      "Epoch 172/300\n",
      "2/2 [==============================] - 0s 159ms/step - loss: 5.5197e-05 - accuracy: 1.0000 - val_loss: 0.0055 - val_accuracy: 1.0000\n",
      "Epoch 173/300\n",
      "2/2 [==============================] - 0s 147ms/step - loss: 5.4775e-05 - accuracy: 1.0000 - val_loss: 0.0062 - val_accuracy: 1.0000\n",
      "Epoch 174/300\n",
      "2/2 [==============================] - 0s 199ms/step - loss: 8.2299e-05 - accuracy: 1.0000 - val_loss: 0.0068 - val_accuracy: 1.0000\n",
      "Epoch 175/300\n",
      "2/2 [==============================] - 0s 267ms/step - loss: 2.1672e-05 - accuracy: 1.0000 - val_loss: 0.0073 - val_accuracy: 1.0000\n",
      "Epoch 176/300\n",
      "2/2 [==============================] - 0s 248ms/step - loss: 1.4935e-04 - accuracy: 1.0000 - val_loss: 0.0077 - val_accuracy: 1.0000\n",
      "Epoch 177/300\n",
      "2/2 [==============================] - 0s 194ms/step - loss: 3.9641e-05 - accuracy: 1.0000 - val_loss: 0.0079 - val_accuracy: 1.0000\n",
      "Epoch 178/300\n",
      "2/2 [==============================] - 0s 168ms/step - loss: 1.4857e-04 - accuracy: 1.0000 - val_loss: 0.0080 - val_accuracy: 1.0000\n",
      "Epoch 179/300\n",
      "2/2 [==============================] - 0s 143ms/step - loss: 7.4524e-05 - accuracy: 1.0000 - val_loss: 0.0080 - val_accuracy: 1.0000\n",
      "Epoch 180/300\n",
      "2/2 [==============================] - 0s 130ms/step - loss: 3.1276e-05 - accuracy: 1.0000 - val_loss: 0.0080 - val_accuracy: 1.0000\n",
      "Epoch 181/300\n",
      "2/2 [==============================] - 0s 132ms/step - loss: 1.1755e-04 - accuracy: 1.0000 - val_loss: 0.0078 - val_accuracy: 1.0000\n",
      "Epoch 182/300\n",
      "2/2 [==============================] - 0s 150ms/step - loss: 2.9911e-04 - accuracy: 1.0000 - val_loss: 0.0074 - val_accuracy: 1.0000\n",
      "Epoch 183/300\n",
      "2/2 [==============================] - 0s 123ms/step - loss: 8.1933e-05 - accuracy: 1.0000 - val_loss: 0.0067 - val_accuracy: 1.0000\n",
      "Epoch 184/300\n",
      "2/2 [==============================] - 0s 178ms/step - loss: 3.0816e-05 - accuracy: 1.0000 - val_loss: 0.0062 - val_accuracy: 1.0000\n",
      "Epoch 185/300\n",
      "2/2 [==============================] - 0s 158ms/step - loss: 4.8275e-05 - accuracy: 1.0000 - val_loss: 0.0058 - val_accuracy: 1.0000\n",
      "Epoch 186/300\n",
      "2/2 [==============================] - 0s 137ms/step - loss: 3.3552e-05 - accuracy: 1.0000 - val_loss: 0.0055 - val_accuracy: 1.0000\n",
      "Epoch 187/300\n",
      "2/2 [==============================] - 0s 155ms/step - loss: 2.1321e-04 - accuracy: 1.0000 - val_loss: 0.0051 - val_accuracy: 1.0000\n",
      "Epoch 188/300\n",
      "2/2 [==============================] - 0s 144ms/step - loss: 3.1581e-05 - accuracy: 1.0000 - val_loss: 0.0048 - val_accuracy: 1.0000\n",
      "Epoch 189/300\n",
      "2/2 [==============================] - 0s 123ms/step - loss: 1.4782e-04 - accuracy: 1.0000 - val_loss: 0.0045 - val_accuracy: 1.0000\n",
      "Epoch 190/300\n",
      "2/2 [==============================] - 0s 202ms/step - loss: 3.5298e-05 - accuracy: 1.0000 - val_loss: 0.0043 - val_accuracy: 1.0000\n",
      "Epoch 191/300\n",
      "2/2 [==============================] - 0s 146ms/step - loss: 5.4650e-05 - accuracy: 1.0000 - val_loss: 0.0041 - val_accuracy: 1.0000\n",
      "Epoch 192/300\n",
      "2/2 [==============================] - 0s 139ms/step - loss: 7.5542e-05 - accuracy: 1.0000 - val_loss: 0.0039 - val_accuracy: 1.0000\n",
      "Epoch 193/300\n",
      "2/2 [==============================] - 0s 122ms/step - loss: 7.3997e-05 - accuracy: 1.0000 - val_loss: 0.0038 - val_accuracy: 1.0000\n",
      "Epoch 194/300\n",
      "2/2 [==============================] - 0s 130ms/step - loss: 6.9578e-05 - accuracy: 1.0000 - val_loss: 0.0037 - val_accuracy: 1.0000\n",
      "Epoch 195/300\n",
      "2/2 [==============================] - 0s 124ms/step - loss: 3.7878e-05 - accuracy: 1.0000 - val_loss: 0.0037 - val_accuracy: 1.0000\n",
      "Epoch 196/300\n",
      "2/2 [==============================] - 0s 152ms/step - loss: 4.6268e-05 - accuracy: 1.0000 - val_loss: 0.0037 - val_accuracy: 1.0000\n",
      "Epoch 197/300\n",
      "2/2 [==============================] - 0s 139ms/step - loss: 1.8130e-04 - accuracy: 1.0000 - val_loss: 0.0038 - val_accuracy: 1.0000\n",
      "Epoch 198/300\n",
      "2/2 [==============================] - 0s 163ms/step - loss: 3.8064e-05 - accuracy: 1.0000 - val_loss: 0.0040 - val_accuracy: 1.0000\n",
      "Epoch 199/300\n",
      "2/2 [==============================] - 0s 193ms/step - loss: 5.3761e-05 - accuracy: 1.0000 - val_loss: 0.0042 - val_accuracy: 1.0000\n",
      "Epoch 200/300\n",
      "2/2 [==============================] - 0s 156ms/step - loss: 9.2608e-05 - accuracy: 1.0000 - val_loss: 0.0044 - val_accuracy: 1.0000\n",
      "Epoch 201/300\n",
      "2/2 [==============================] - 0s 210ms/step - loss: 2.6283e-05 - accuracy: 1.0000 - val_loss: 0.0046 - val_accuracy: 1.0000\n",
      "Epoch 202/300\n",
      "2/2 [==============================] - 0s 157ms/step - loss: 2.2878e-04 - accuracy: 1.0000 - val_loss: 0.0046 - val_accuracy: 1.0000\n",
      "Epoch 203/300\n",
      "2/2 [==============================] - 0s 151ms/step - loss: 5.3808e-05 - accuracy: 1.0000 - val_loss: 0.0047 - val_accuracy: 1.0000\n",
      "Epoch 204/300\n",
      "2/2 [==============================] - 0s 196ms/step - loss: 2.6647e-04 - accuracy: 1.0000 - val_loss: 0.0046 - val_accuracy: 1.0000\n",
      "Epoch 205/300\n",
      "2/2 [==============================] - 0s 185ms/step - loss: 8.1419e-05 - accuracy: 1.0000 - val_loss: 0.0045 - val_accuracy: 1.0000\n",
      "Epoch 206/300\n",
      "2/2 [==============================] - 0s 184ms/step - loss: 6.7134e-05 - accuracy: 1.0000 - val_loss: 0.0044 - val_accuracy: 1.0000\n",
      "Epoch 207/300\n",
      "2/2 [==============================] - 0s 132ms/step - loss: 9.0289e-05 - accuracy: 1.0000 - val_loss: 0.0043 - val_accuracy: 1.0000\n",
      "Epoch 208/300\n",
      "2/2 [==============================] - 0s 134ms/step - loss: 4.9861e-05 - accuracy: 1.0000 - val_loss: 0.0043 - val_accuracy: 1.0000\n",
      "Epoch 209/300\n",
      "2/2 [==============================] - 0s 139ms/step - loss: 1.1135e-04 - accuracy: 1.0000 - val_loss: 0.0043 - val_accuracy: 1.0000\n",
      "Epoch 210/300\n",
      "2/2 [==============================] - 0s 125ms/step - loss: 6.2798e-05 - accuracy: 1.0000 - val_loss: 0.0044 - val_accuracy: 1.0000\n",
      "Epoch 211/300\n",
      "2/2 [==============================] - 0s 212ms/step - loss: 1.7992e-05 - accuracy: 1.0000 - val_loss: 0.0044 - val_accuracy: 1.0000\n",
      "Epoch 212/300\n",
      "2/2 [==============================] - 0s 184ms/step - loss: 8.7913e-05 - accuracy: 1.0000 - val_loss: 0.0045 - val_accuracy: 1.0000\n",
      "Epoch 213/300\n",
      "2/2 [==============================] - 0s 195ms/step - loss: 6.2724e-05 - accuracy: 1.0000 - val_loss: 0.0046 - val_accuracy: 1.0000\n",
      "Epoch 214/300\n",
      "2/2 [==============================] - 0s 193ms/step - loss: 2.5424e-05 - accuracy: 1.0000 - val_loss: 0.0046 - val_accuracy: 1.0000\n",
      "Epoch 215/300\n",
      "2/2 [==============================] - 0s 138ms/step - loss: 1.0412e-04 - accuracy: 1.0000 - val_loss: 0.0047 - val_accuracy: 1.0000\n",
      "Epoch 216/300\n",
      "2/2 [==============================] - 0s 163ms/step - loss: 3.3968e-05 - accuracy: 1.0000 - val_loss: 0.0047 - val_accuracy: 1.0000\n",
      "Epoch 217/300\n",
      "2/2 [==============================] - 0s 170ms/step - loss: 5.9401e-05 - accuracy: 1.0000 - val_loss: 0.0047 - val_accuracy: 1.0000\n",
      "Epoch 218/300\n",
      "2/2 [==============================] - 0s 131ms/step - loss: 5.7302e-05 - accuracy: 1.0000 - val_loss: 0.0047 - val_accuracy: 1.0000\n",
      "Epoch 219/300\n",
      "2/2 [==============================] - 0s 139ms/step - loss: 2.6637e-04 - accuracy: 1.0000 - val_loss: 0.0045 - val_accuracy: 1.0000\n",
      "Epoch 220/300\n",
      "2/2 [==============================] - 0s 140ms/step - loss: 3.1550e-05 - accuracy: 1.0000 - val_loss: 0.0044 - val_accuracy: 1.0000\n",
      "Epoch 221/300\n",
      "2/2 [==============================] - 0s 143ms/step - loss: 5.0476e-05 - accuracy: 1.0000 - val_loss: 0.0044 - val_accuracy: 1.0000\n",
      "Epoch 222/300\n",
      "2/2 [==============================] - 0s 123ms/step - loss: 5.9817e-05 - accuracy: 1.0000 - val_loss: 0.0043 - val_accuracy: 1.0000\n",
      "Epoch 223/300\n",
      "2/2 [==============================] - 0s 173ms/step - loss: 1.4888e-04 - accuracy: 1.0000 - val_loss: 0.0044 - val_accuracy: 1.0000\n",
      "Epoch 224/300\n",
      "2/2 [==============================] - 0s 142ms/step - loss: 6.8508e-04 - accuracy: 1.0000 - val_loss: 0.0041 - val_accuracy: 1.0000\n"
     ]
    },
    {
     "name": "stdout",
     "output_type": "stream",
     "text": [
      "Epoch 225/300\n",
      "2/2 [==============================] - ETA: 0s - loss: 8.3493e-05 - accuracy: 1.00 - 0s 126ms/step - loss: 2.1585e-04 - accuracy: 1.0000 - val_loss: 0.0039 - val_accuracy: 1.0000\n",
      "Epoch 226/300\n",
      "2/2 [==============================] - 0s 147ms/step - loss: 5.2208e-05 - accuracy: 1.0000 - val_loss: 0.0037 - val_accuracy: 1.0000\n",
      "Epoch 227/300\n",
      "2/2 [==============================] - 0s 139ms/step - loss: 5.9949e-05 - accuracy: 1.0000 - val_loss: 0.0036 - val_accuracy: 1.0000\n",
      "Epoch 228/300\n",
      "2/2 [==============================] - 0s 138ms/step - loss: 3.8467e-05 - accuracy: 1.0000 - val_loss: 0.0035 - val_accuracy: 1.0000\n",
      "Epoch 229/300\n",
      "2/2 [==============================] - 0s 135ms/step - loss: 4.5815e-05 - accuracy: 1.0000 - val_loss: 0.0034 - val_accuracy: 1.0000\n",
      "Epoch 230/300\n",
      "2/2 [==============================] - 0s 131ms/step - loss: 2.8749e-05 - accuracy: 1.0000 - val_loss: 0.0034 - val_accuracy: 1.0000\n",
      "Epoch 231/300\n",
      "2/2 [==============================] - 0s 150ms/step - loss: 7.9469e-04 - accuracy: 1.0000 - val_loss: 0.0030 - val_accuracy: 1.0000\n",
      "Epoch 232/300\n",
      "2/2 [==============================] - 0s 133ms/step - loss: 4.2415e-05 - accuracy: 1.0000 - val_loss: 0.0028 - val_accuracy: 1.0000\n",
      "Epoch 233/300\n",
      "2/2 [==============================] - 0s 134ms/step - loss: 7.8509e-05 - accuracy: 1.0000 - val_loss: 0.0028 - val_accuracy: 1.0000\n",
      "Epoch 234/300\n",
      "2/2 [==============================] - 0s 127ms/step - loss: 1.5238e-04 - accuracy: 1.0000 - val_loss: 0.0028 - val_accuracy: 1.0000\n",
      "Epoch 235/300\n",
      "2/2 [==============================] - 0s 138ms/step - loss: 4.9736e-05 - accuracy: 1.0000 - val_loss: 0.0028 - val_accuracy: 1.0000\n",
      "Epoch 236/300\n",
      "2/2 [==============================] - 0s 122ms/step - loss: 1.1225e-04 - accuracy: 1.0000 - val_loss: 0.0028 - val_accuracy: 1.0000\n",
      "Epoch 237/300\n",
      "2/2 [==============================] - 0s 131ms/step - loss: 1.6219e-04 - accuracy: 1.0000 - val_loss: 0.0028 - val_accuracy: 1.0000\n",
      "Epoch 238/300\n",
      "2/2 [==============================] - 0s 139ms/step - loss: 1.0356e-04 - accuracy: 1.0000 - val_loss: 0.0028 - val_accuracy: 1.0000\n",
      "Epoch 239/300\n",
      "2/2 [==============================] - 0s 150ms/step - loss: 2.5015e-05 - accuracy: 1.0000 - val_loss: 0.0028 - val_accuracy: 1.0000\n",
      "Epoch 240/300\n",
      "2/2 [==============================] - 0s 148ms/step - loss: 3.6469e-05 - accuracy: 1.0000 - val_loss: 0.0028 - val_accuracy: 1.0000\n",
      "Epoch 241/300\n",
      "2/2 [==============================] - 0s 131ms/step - loss: 1.7492e-04 - accuracy: 1.0000 - val_loss: 0.0028 - val_accuracy: 1.0000\n",
      "Epoch 242/300\n",
      "2/2 [==============================] - 0s 135ms/step - loss: 6.8477e-05 - accuracy: 1.0000 - val_loss: 0.0029 - val_accuracy: 1.0000\n",
      "Epoch 243/300\n",
      "2/2 [==============================] - 0s 133ms/step - loss: 3.4916e-05 - accuracy: 1.0000 - val_loss: 0.0030 - val_accuracy: 1.0000\n",
      "Epoch 244/300\n",
      "2/2 [==============================] - 0s 142ms/step - loss: 3.1411e-05 - accuracy: 1.0000 - val_loss: 0.0031 - val_accuracy: 1.0000\n",
      "Epoch 245/300\n",
      "2/2 [==============================] - 0s 124ms/step - loss: 1.7028e-05 - accuracy: 1.0000 - val_loss: 0.0032 - val_accuracy: 1.0000\n",
      "Epoch 246/300\n",
      "2/2 [==============================] - 0s 130ms/step - loss: 9.3446e-05 - accuracy: 1.0000 - val_loss: 0.0033 - val_accuracy: 1.0000\n",
      "Epoch 247/300\n",
      "2/2 [==============================] - 0s 124ms/step - loss: 2.8608e-05 - accuracy: 1.0000 - val_loss: 0.0034 - val_accuracy: 1.0000\n",
      "Epoch 248/300\n",
      "2/2 [==============================] - 0s 123ms/step - loss: 4.8211e-05 - accuracy: 1.0000 - val_loss: 0.0035 - val_accuracy: 1.0000\n",
      "Epoch 249/300\n",
      "2/2 [==============================] - 0s 144ms/step - loss: 1.1596e-04 - accuracy: 1.0000 - val_loss: 0.0036 - val_accuracy: 1.0000\n",
      "Epoch 250/300\n",
      "2/2 [==============================] - 0s 136ms/step - loss: 4.9363e-05 - accuracy: 1.0000 - val_loss: 0.0038 - val_accuracy: 1.0000\n",
      "Epoch 251/300\n",
      "2/2 [==============================] - 0s 122ms/step - loss: 6.5738e-05 - accuracy: 1.0000 - val_loss: 0.0039 - val_accuracy: 1.0000\n",
      "Epoch 252/300\n",
      "2/2 [==============================] - 0s 134ms/step - loss: 3.4722e-05 - accuracy: 1.0000 - val_loss: 0.0040 - val_accuracy: 1.0000\n",
      "Epoch 253/300\n",
      "2/2 [==============================] - 0s 129ms/step - loss: 1.1093e-04 - accuracy: 1.0000 - val_loss: 0.0042 - val_accuracy: 1.0000\n",
      "Epoch 254/300\n",
      "2/2 [==============================] - 0s 118ms/step - loss: 1.5273e-05 - accuracy: 1.0000 - val_loss: 0.0043 - val_accuracy: 1.0000\n",
      "Epoch 255/300\n",
      "2/2 [==============================] - 0s 122ms/step - loss: 4.3694e-05 - accuracy: 1.0000 - val_loss: 0.0044 - val_accuracy: 1.0000\n",
      "Epoch 256/300\n",
      "2/2 [==============================] - 0s 122ms/step - loss: 7.4863e-05 - accuracy: 1.0000 - val_loss: 0.0045 - val_accuracy: 1.0000\n",
      "Epoch 257/300\n",
      "2/2 [==============================] - 0s 146ms/step - loss: 9.7659e-05 - accuracy: 1.0000 - val_loss: 0.0045 - val_accuracy: 1.0000\n",
      "Epoch 258/300\n",
      "2/2 [==============================] - 0s 166ms/step - loss: 3.2425e-05 - accuracy: 1.0000 - val_loss: 0.0045 - val_accuracy: 1.0000\n",
      "Epoch 259/300\n",
      "2/2 [==============================] - 0s 152ms/step - loss: 2.8406e-05 - accuracy: 1.0000 - val_loss: 0.0045 - val_accuracy: 1.0000\n",
      "Epoch 260/300\n",
      "2/2 [==============================] - 0s 154ms/step - loss: 3.4119e-05 - accuracy: 1.0000 - val_loss: 0.0045 - val_accuracy: 1.0000\n",
      "Epoch 261/300\n",
      "2/2 [==============================] - 0s 161ms/step - loss: 2.9748e-04 - accuracy: 1.0000 - val_loss: 0.0042 - val_accuracy: 1.0000\n",
      "Epoch 262/300\n",
      "2/2 [==============================] - 0s 135ms/step - loss: 3.1026e-05 - accuracy: 1.0000 - val_loss: 0.0039 - val_accuracy: 1.0000\n",
      "Epoch 263/300\n",
      "2/2 [==============================] - 0s 147ms/step - loss: 5.4376e-05 - accuracy: 1.0000 - val_loss: 0.0037 - val_accuracy: 1.0000\n",
      "Epoch 264/300\n",
      "2/2 [==============================] - 0s 162ms/step - loss: 1.4532e-04 - accuracy: 1.0000 - val_loss: 0.0035 - val_accuracy: 1.0000\n",
      "Epoch 265/300\n",
      "2/2 [==============================] - 0s 183ms/step - loss: 1.8077e-04 - accuracy: 1.0000 - val_loss: 0.0034 - val_accuracy: 1.0000\n",
      "Epoch 266/300\n",
      "2/2 [==============================] - 0s 232ms/step - loss: 3.4915e-04 - accuracy: 1.0000 - val_loss: 0.0035 - val_accuracy: 1.0000\n",
      "Epoch 267/300\n",
      "2/2 [==============================] - 0s 206ms/step - loss: 3.1385e-05 - accuracy: 1.0000 - val_loss: 0.0037 - val_accuracy: 1.0000\n",
      "Epoch 268/300\n",
      "2/2 [==============================] - 0s 177ms/step - loss: 1.1474e-04 - accuracy: 1.0000 - val_loss: 0.0037 - val_accuracy: 1.0000\n",
      "Epoch 269/300\n",
      "2/2 [==============================] - 0s 167ms/step - loss: 2.9303e-05 - accuracy: 1.0000 - val_loss: 0.0037 - val_accuracy: 1.0000\n",
      "Epoch 270/300\n",
      "2/2 [==============================] - 0s 129ms/step - loss: 5.5457e-05 - accuracy: 1.0000 - val_loss: 0.0038 - val_accuracy: 1.0000\n",
      "Epoch 271/300\n",
      "2/2 [==============================] - 0s 133ms/step - loss: 3.9796e-05 - accuracy: 1.0000 - val_loss: 0.0038 - val_accuracy: 1.0000\n",
      "Epoch 272/300\n",
      "2/2 [==============================] - 0s 143ms/step - loss: 4.0328e-05 - accuracy: 1.0000 - val_loss: 0.0038 - val_accuracy: 1.0000\n",
      "Epoch 273/300\n",
      "2/2 [==============================] - 0s 139ms/step - loss: 0.0011 - accuracy: 1.0000 - val_loss: 0.0032 - val_accuracy: 1.0000\n",
      "Epoch 274/300\n",
      "2/2 [==============================] - 0s 128ms/step - loss: 5.7381e-05 - accuracy: 1.0000 - val_loss: 0.0027 - val_accuracy: 1.0000\n",
      "Epoch 275/300\n",
      "2/2 [==============================] - 0s 125ms/step - loss: 7.6234e-05 - accuracy: 1.0000 - val_loss: 0.0027 - val_accuracy: 1.0000\n",
      "Epoch 276/300\n",
      "2/2 [==============================] - 0s 130ms/step - loss: 9.7489e-05 - accuracy: 1.0000 - val_loss: 0.0031 - val_accuracy: 1.0000\n",
      "Epoch 277/300\n",
      "2/2 [==============================] - 0s 122ms/step - loss: 7.3949e-04 - accuracy: 1.0000 - val_loss: 0.0029 - val_accuracy: 1.0000\n",
      "Epoch 278/300\n",
      "2/2 [==============================] - 0s 122ms/step - loss: 2.2181e-05 - accuracy: 1.0000 - val_loss: 0.0028 - val_accuracy: 1.0000\n",
      "Epoch 279/300\n",
      "2/2 [==============================] - 0s 129ms/step - loss: 1.0191e-04 - accuracy: 1.0000 - val_loss: 0.0027 - val_accuracy: 1.0000\n",
      "Epoch 280/300\n"
     ]
    },
    {
     "name": "stdout",
     "output_type": "stream",
     "text": [
      "2/2 [==============================] - 0s 120ms/step - loss: 5.1651e-05 - accuracy: 1.0000 - val_loss: 0.0027 - val_accuracy: 1.0000\n",
      "Epoch 281/300\n",
      "2/2 [==============================] - 0s 142ms/step - loss: 5.3800e-05 - accuracy: 1.0000 - val_loss: 0.0027 - val_accuracy: 1.0000\n",
      "Epoch 282/300\n",
      "2/2 [==============================] - 0s 138ms/step - loss: 1.5375e-04 - accuracy: 1.0000 - val_loss: 0.0028 - val_accuracy: 1.0000\n",
      "Epoch 283/300\n",
      "2/2 [==============================] - 0s 159ms/step - loss: 1.8455e-04 - accuracy: 1.0000 - val_loss: 0.0029 - val_accuracy: 1.0000\n",
      "Epoch 284/300\n",
      "2/2 [==============================] - 0s 153ms/step - loss: 4.8501e-05 - accuracy: 1.0000 - val_loss: 0.0030 - val_accuracy: 1.0000\n",
      "Epoch 285/300\n",
      "2/2 [==============================] - 0s 137ms/step - loss: 1.0074e-04 - accuracy: 1.0000 - val_loss: 0.0031 - val_accuracy: 1.0000\n",
      "Epoch 286/300\n",
      "2/2 [==============================] - 0s 132ms/step - loss: 4.8699e-05 - accuracy: 1.0000 - val_loss: 0.0032 - val_accuracy: 1.0000\n",
      "Epoch 287/300\n",
      "2/2 [==============================] - 0s 140ms/step - loss: 9.3924e-05 - accuracy: 1.0000 - val_loss: 0.0032 - val_accuracy: 1.0000\n",
      "Epoch 288/300\n",
      "2/2 [==============================] - 0s 127ms/step - loss: 4.8234e-05 - accuracy: 1.0000 - val_loss: 0.0032 - val_accuracy: 1.0000\n",
      "Epoch 289/300\n",
      "2/2 [==============================] - 0s 126ms/step - loss: 1.9864e-05 - accuracy: 1.0000 - val_loss: 0.0033 - val_accuracy: 1.0000\n",
      "Epoch 290/300\n",
      "2/2 [==============================] - 0s 146ms/step - loss: 6.1667e-05 - accuracy: 1.0000 - val_loss: 0.0033 - val_accuracy: 1.0000\n",
      "Epoch 291/300\n",
      "2/2 [==============================] - 0s 156ms/step - loss: 8.3800e-05 - accuracy: 1.0000 - val_loss: 0.0034 - val_accuracy: 1.0000\n",
      "Epoch 292/300\n",
      "2/2 [==============================] - 0s 122ms/step - loss: 7.5328e-05 - accuracy: 1.0000 - val_loss: 0.0035 - val_accuracy: 1.0000\n",
      "Epoch 293/300\n",
      "2/2 [==============================] - 0s 127ms/step - loss: 3.2596e-05 - accuracy: 1.0000 - val_loss: 0.0035 - val_accuracy: 1.0000\n",
      "Epoch 294/300\n",
      "2/2 [==============================] - 0s 125ms/step - loss: 4.7646e-05 - accuracy: 1.0000 - val_loss: 0.0036 - val_accuracy: 1.0000\n",
      "Epoch 295/300\n",
      "2/2 [==============================] - 0s 182ms/step - loss: 2.3363e-05 - accuracy: 1.0000 - val_loss: 0.0037 - val_accuracy: 1.0000\n",
      "Epoch 296/300\n",
      "2/2 [==============================] - 0s 176ms/step - loss: 3.3299e-05 - accuracy: 1.0000 - val_loss: 0.0038 - val_accuracy: 1.0000\n",
      "Epoch 297/300\n",
      "2/2 [==============================] - 0s 134ms/step - loss: 5.0275e-05 - accuracy: 1.0000 - val_loss: 0.0038 - val_accuracy: 1.0000\n",
      "Epoch 298/300\n",
      "2/2 [==============================] - 0s 131ms/step - loss: 1.0038e-04 - accuracy: 1.0000 - val_loss: 0.0038 - val_accuracy: 1.0000\n",
      "Epoch 299/300\n",
      "2/2 [==============================] - 0s 133ms/step - loss: 5.4149e-05 - accuracy: 1.0000 - val_loss: 0.0037 - val_accuracy: 1.0000\n",
      "Epoch 300/300\n",
      "2/2 [==============================] - 0s 140ms/step - loss: 3.0916e-05 - accuracy: 1.0000 - val_loss: 0.0037 - val_accuracy: 1.0000\n"
     ]
    }
   ],
   "source": [
    "history = model.fit(x_train, y_train ,epochs = epochs , validation_data = (x_test, y_test), verbose=1)"
   ]
  },
  {
   "cell_type": "code",
   "execution_count": 38,
   "metadata": {},
   "outputs": [
    {
     "name": "stdout",
     "output_type": "stream",
     "text": [
      "INFO:tensorflow:Assets written to: pokemodel\\assets\n"
     ]
    }
   ],
   "source": [
    "tf.saved_model.save(model, 'pokemodel')"
   ]
  },
  {
   "cell_type": "markdown",
   "metadata": {},
   "source": [
    "### Análise"
   ]
  },
  {
   "cell_type": "markdown",
   "metadata": {},
   "source": [
    "#### Taxas de aprendizado, treino e validação ...\n",
    "\n",
    "eixo x"
   ]
  },
  {
   "cell_type": "code",
   "execution_count": 40,
   "metadata": {
    "colab": {
     "base_uri": "https://localhost:8080/"
    },
    "executionInfo": {
     "elapsed": 105072,
     "status": "ok",
     "timestamp": 1611545727909,
     "user": {
      "displayName": "Ronildo Silva",
      "photoUrl": "https://lh3.googleusercontent.com/a-/AOh14GiXpSmcvL_7FpDP52gE4ZBVyz7BPpD2zA7Mq5fpMw=s64",
      "userId": "12710935293836534770"
     },
     "user_tz": 180
    },
    "id": "QdAP4H_f83E5",
    "outputId": "dacc7368-c30e-47f0-a715-6b6154b7d078"
   },
   "outputs": [
    {
     "data": {
      "image/png": "[encoded data removed]",
      "text/plain": [
       "<Figure size 1080x1080 with 2 Axes>"
      ]
     },
     "metadata": {},
     "output_type": "display_data"
    }
   ],
   "source": [
    "acc = history.history['accuracy']\n",
    "val_acc = history.history['val_accuracy']\n",
    "loss = history.history['loss']\n",
    "val_loss = history.history['val_loss']\n",
    "\n",
    "epochs_range = range(epochs)\n",
    "\n",
    "plt.figure(figsize=(15, 15))\n",
    "plt.subplot(2, 2, 1)\n",
    "plt.plot(epochs_range, acc, label='Training Accuracy')\n",
    "plt.plot(epochs_range, val_acc, label='Validation Accuracy')\n",
    "plt.legend(loc='lower right')\n",
    "plt.title('Training and Validation Accuracy')\n",
    "\n",
    "plt.subplot(2, 2, 2)\n",
    "plt.plot(epochs_range, loss, label='Training Loss')\n",
    "plt.plot(epochs_range, val_loss, label='Validation Loss')\n",
    "plt.legend(loc='upper right')\n",
    "plt.title('Training and Validation Loss')\n",
    "plt.show()"
   ]
  },
  {
   "cell_type": "markdown",
   "metadata": {},
   "source": [
    "### Relatório do Classificador"
   ]
  },
  {
   "cell_type": "code",
   "execution_count": 41,
   "metadata": {},
   "outputs": [
    {
     "name": "stdout",
     "output_type": "stream",
     "text": [
      "                 precision    recall  f1-score   support\n",
      "\n",
      " Fire (Class 0)       1.00      1.00      1.00        15\n",
      "Water (Class 1)       1.00      1.00      1.00        15\n",
      "\n",
      "       accuracy                           1.00        30\n",
      "      macro avg       1.00      1.00      1.00        30\n",
      "   weighted avg       1.00      1.00      1.00        30\n",
      "\n"
     ]
    }
   ],
   "source": [
    "predictions = model.predict_classes(x_test)\n",
    "predictions = predictions.reshape(1,-1)[0]\n",
    "print(classification_report(y_test, predictions, target_names = ['Fire (Class 0)','Water (Class 1)']))"
   ]
  },
  {
   "cell_type": "markdown",
   "metadata": {},
   "source": [
    "- $p = \\frac{t_p}{t_p+f_p}$\n",
    "- $r = \\frac{t_p}{t_p+f_n}$\n",
    "- $f1 = \\frac{2 \\times p \\times r}{p+r}$\n",
    "- `support` é o número de ocorrências de cada classe no is the number of occurrences of each class in `y_true`."
   ]
  },
  {
   "cell_type": "markdown",
   "metadata": {},
   "source": [
    "### Avaliação ROC"
   ]
  },
  {
   "cell_type": "code",
   "execution_count": 42,
   "metadata": {},
   "outputs": [],
   "source": [
    "from sklearn.metrics import roc_curve\n",
    "from sklearn.metrics import auc\n",
    "\n",
    "y_pred_keras = model.predict_classes(x_test).ravel()\n",
    "\n",
    "fpr_keras, tpr_keras, thresholds_keras = roc_curve(y_test, y_pred_keras)\n",
    "auc_keras = auc(fpr_keras, tpr_keras)"
   ]
  },
  {
   "cell_type": "code",
   "execution_count": 43,
   "metadata": {},
   "outputs": [
    {
     "data": {
      "image/png": "[encoded data removed]",
      "text/plain": [
       "<Figure size 432x432 with 1 Axes>"
      ]
     },
     "metadata": {},
     "output_type": "display_data"
    }
   ],
   "source": [
    "plt.figure(figsize=(6,6))\n",
    "plt.plot([0, 1], [0, 1], 'k--')\n",
    "plt.plot(fpr_keras, tpr_keras, label='CNN model (area = {:.3f})'.format(auc_keras))\n",
    "plt.xlabel('False positive rate')\n",
    "plt.ylabel('True positive rate')\n",
    "plt.title('ROC curve')\n",
    "plt.legend(loc='best')\n",
    "plt.show()"
   ]
  },
  {
   "cell_type": "markdown",
   "metadata": {},
   "source": []
  },
  {
   "cell_type": "markdown",
   "metadata": {},
   "source": [
    "### Predições"
   ]
  },
  {
   "cell_type": "markdown",
   "metadata": {},
   "source": [
    "#### Carregamento da imagem"
   ]
  },
  {
   "cell_type": "code",
   "execution_count": 64,
   "metadata": {},
   "outputs": [],
   "source": [
    "img_pred = cv2.imread('175.png')[...,::-1] #convert BGR to RGB format\n",
    "img_pred_arr = cv2.resize(img_pred, (img_size, img_size))"
   ]
  },
  {
   "cell_type": "code",
   "execution_count": 65,
   "metadata": {},
   "outputs": [
    {
     "data": {
      "text/plain": [
       "<matplotlib.image.AxesImage at 0x1b588504700>"
      ]
     },
     "execution_count": 65,
     "metadata": {},
     "output_type": "execute_result"
    },
    {
     "data": {
      "image/png": "[encoded data removed]",
      "text/plain": [
       "<Figure size 432x288 with 1 Axes>"
      ]
     },
     "metadata": {},
     "output_type": "display_data"
    }
   ],
   "source": [
    "plt.imshow(Image.fromarray(np.uint8(img_pred_arr)))"
   ]
  },
  {
   "cell_type": "code",
   "execution_count": 66,
   "metadata": {},
   "outputs": [
    {
     "data": {
      "text/plain": [
       "(32, 32, 3)"
      ]
     },
     "execution_count": 66,
     "metadata": {},
     "output_type": "execute_result"
    }
   ],
   "source": [
    "img_pred_arr.shape"
   ]
  },
  {
   "cell_type": "markdown",
   "metadata": {},
   "source": [
    "#### Captura dos resultados da predição"
   ]
  },
  {
   "cell_type": "code",
   "execution_count": 67,
   "metadata": {},
   "outputs": [],
   "source": [
    "predict_pkm = model.predict(tf.reshape(img_pred_arr, [1, img_size, img_size, 3]))"
   ]
  },
  {
   "cell_type": "code",
   "execution_count": 68,
   "metadata": {},
   "outputs": [
    {
     "data": {
      "text/plain": [
       "array([[0., 1.]], dtype=float32)"
      ]
     },
     "execution_count": 68,
     "metadata": {},
     "output_type": "execute_result"
    }
   ],
   "source": [
    "predict_pkm"
   ]
  },
  {
   "cell_type": "markdown",
   "metadata": {},
   "source": [
    "#### Identificação da classe predita"
   ]
  },
  {
   "cell_type": "code",
   "execution_count": 63,
   "metadata": {},
   "outputs": [
    {
     "data": {
      "text/plain": [
       "'fire'"
      ]
     },
     "execution_count": 63,
     "metadata": {},
     "output_type": "execute_result"
    }
   ],
   "source": [
    "labels[predict_pkm.tolist()[0].index(max(predict_pkm.tolist()[0]))]"
   ]
  },
  {
   "cell_type": "markdown",
   "metadata": {
    "executionInfo": {
     "elapsed": 129595,
     "status": "ok",
     "timestamp": 1611545584552,
     "user": {
      "displayName": "Ronildo Silva",
      "photoUrl": "https://lh3.googleusercontent.com/a-/AOh14GiXpSmcvL_7FpDP52gE4ZBVyz7BPpD2zA7Mq5fpMw=s64",
      "userId": "12710935293836534770"
     },
     "user_tz": 180
    },
    "id": "h2xFO8HIzpxl"
   },
   "source": [
    "# Recomendações"
   ]
  },
  {
   "cell_type": "markdown",
   "metadata": {},
   "source": [
    "| Python Machine Learning       | Deep Learning with TensorFlow 2 and Keras           | Deep Learning with Python  |\n",
    "| ------------- |---------------| ------|\n",
    "|<img src=\"https://images-na.ssl-images-amazon.com/images/I/71DoK1IGBgL.jpg\" alt=\"drawing\" width=\"200\"/>      | <img src=\"https://insidebigdata.com/wp-content/uploads/2020/07/Packt_DeepLearning_TensorFlow_Keras.png\" alt=\"drawing\" width=\"200\"/> | <img src=\"https://www.siq.com.br/wp-content/uploads/2020/01/Imagem6-241x300.png\" alt=\"drawing\" width=\"200\"/> |\n",
    "\n",
    "Artigos:\n",
    "- [Performance Analysis of Various Activation Functions in Generalized MLP Architectures of Neural Networks](https://www.researchgate.net/publication/228813985_Performance_Analysis_of_Various_Activation_Functions_in_Generalized_MLP_Architectures_of_Neural_Networks)"
   ]
  },
  {
   "cell_type": "code",
   "execution_count": null,
   "metadata": {},
   "outputs": [],
   "source": []
  }
 ],
 "metadata": {
  "colab": {
   "authorship_tag": "ABX9TyNXbmj1cmM6pe85pODCR86j",
   "collapsed_sections": [],
   "name": "ClassificationImage.ipynb",
   "provenance": []
  },
  "kernelspec": {
   "display_name": "Python 3",
   "language": "python",
   "name": "python3"
  },
  "language_info": {
   "codemirror_mode": {
    "name": "ipython",
    "version": 3
   },
   "file_extension": ".py",
   "mimetype": "text/x-python",
   "name": "python",
   "nbconvert_exporter": "python",
   "pygments_lexer": "ipython3",
   "version": "3.8.5"
  }
 },
 "nbformat": 4,
 "nbformat_minor": 1
}
